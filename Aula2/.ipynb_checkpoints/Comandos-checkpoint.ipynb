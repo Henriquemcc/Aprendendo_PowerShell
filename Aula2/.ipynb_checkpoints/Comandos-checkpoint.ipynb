{
 "cells": [
  {
   "cell_type": "markdown",
   "id": "60daa74f",
   "metadata": {},
   "source": [
    "# Aula 2"
   ]
  },
  {
   "cell_type": "markdown",
   "id": "07b19ce1",
   "metadata": {},
   "source": [
    "## Testando o CommandPrecedence"
   ]
  },
  {
   "cell_type": "code",
   "execution_count": 1,
   "id": "fca1a1f0",
   "metadata": {},
   "outputs": [
    {
     "name": "stdout",
     "output_type": "stream",
     "text": []
    }
   ],
   "source": [
    "Set-Location -Path \"../Aula1\""
   ]
  },
  {
   "cell_type": "markdown",
   "id": "f5fe81a4",
   "metadata": {},
   "source": [
    "Tentando executar o script batch da aula passada sem o \"CommandPrecedence\"...:"
   ]
  },
  {
   "cell_type": "code",
   "execution_count": 3,
   "id": "4e0b1152",
   "metadata": {},
   "outputs": [
    {
     "name": "stdout",
     "output_type": "stream",
     "text": [
      "reiniciarServicoByteBankSrv01.bat : O termo 'reiniciarServicoByteBankSrv01.bat' n■ ■ reconhecido como nome de cmdlet, \n",
      "fun■■, arquivo de script ou programa oper■vel. Verifique a grafia do nome ou, se um caminho tiver sido inclu■do, veja \n",
      "se o caminho est■ correto e tente novamente.\n",
      "No linha:2 caractere:1\n",
      "+ reiniciarServicoByteBankSrv01.bat\n",
      "+ ~~~~~~~~~~~~~~~~~~~~~~~~~~~~~~~~~\n",
      "    + CategoryInfo          : ObjectNotFound: (reiniciarServicoByteBankSrv01.bat:String) [], CommandNotFoundException\n",
      "    + FullyQualifiedErrorId : CommandNotFoundException\n",
      " \n",
      "\n",
      "Suggestion [3,General]: O comando reiniciarServicoByteBankSrv01.bat n■ foi encontrado, mas existe no local atual. Por padr■, o Windows PowerShell n■ carrega comandos do local atual. Se voc■ confia nesse comando, digite: \".\\reiniciarServicoByteBankSrv01.bat\". Consulte \"get-help about_Command_Precedence\" para obter mais detalhes.\n",
      ". {\n",
      ">> reiniciarServicoByteBankSrv01.bat\n",
      ">> }\n",
      ">> \n",
      "reiniciarServicoByteBankSrv01.bat : O termo 'reiniciarServicoByteBankSrv01.bat' n■ ■ reconhecido como nome de cmdlet, \n",
      "fun■■, arquivo de script ou programa oper■vel"
     ]
    }
   ],
   "source": [
    "reiniciarServicoByteBankSrv01.bat"
   ]
  },
  {
   "cell_type": "markdown",
   "id": "ee10a5cb",
   "metadata": {},
   "source": [
    "Tentando executar o script bash da aula passada com o \"\"CommandPrecedence\"\"...:"
   ]
  },
  {
   "cell_type": "code",
   "execution_count": 4,
   "id": "4371a2a0",
   "metadata": {},
   "outputs": [
    {
     "name": "stdout",
     "output_type": "stream",
     "text": [
      "Buscando o servico \"ByteBank Interface Service\" no servidor SRV01\n",
      "Verificando se o servico \"ByteBank Interface Service\" esta sendo executado\n",
      "O servico \"ByteBank Interface Service\" nao esta sendo executado no servidor\n"
     ]
    }
   ],
   "source": [
    "./reiniciarServicoByteBankSrv01.bat"
   ]
  },
  {
   "cell_type": "markdown",
   "id": "33311c99",
   "metadata": {},
   "source": [
    "Tentando executar o ping por meio de: ping google.com\""
   ]
  },
  {
   "cell_type": "code",
   "execution_count": 5,
   "id": "f7c270fd",
   "metadata": {},
   "outputs": [
    {
     "name": "stdout",
     "output_type": "stream",
     "text": [
      "\n",
      "Disparando google.com [2800:3f0:4004:80c::200e] com 32 bytes de dados:\n",
      "Resposta de 2800:3f0:4004:80c::200e: tempo=25ms \n",
      "Resposta de 2800:3f0:4004:80c::200e: tempo=47ms \n",
      "Resposta de 2800:3f0:4004:80c::200e: tempo=24ms \n",
      "Resposta de 2800:3f0:4004:80c::200e: tempo=39ms \n",
      "Resposta de 2800:3f0:4004:80c::200e: tempo=37ms \n",
      "Resposta de 2800:3f0:4004:80c::200e: tempo=25ms \n",
      "Resposta de 2800:3f0:4004:80c::200e: tempo=24ms \n",
      "Resposta de 2800:3f0:4004:80c::200e: tempo=23ms \n",
      "Resposta de 2800:3f0:4004:80c::200e: tempo=24ms \n",
      "Resposta de 2800:3f0:4004:80c::200e: tempo=26ms \n",
      "\n",
      "Estat■sticas do Ping para 2800:3f0:4004:80c::200e:\n",
      "    Pacotes: Enviados = 10, Recebidos = 10, Perdidos = 0 (0% de\n",
      "             perda),\n",
      "Aproximar um n■mero redondo de vezes em milissegundos:\n",
      "    M■nimo = 23ms, M■ximo = 47ms, M■dia = 29ms\n"
     ]
    }
   ],
   "source": [
    "ping google.com -n 10"
   ]
  },
  {
   "cell_type": "code",
   "execution_count": 6,
   "id": "d2f9075e",
   "metadata": {},
   "outputs": [
    {
     "name": "stdout",
     "output_type": "stream",
     "text": []
    }
   ],
   "source": [
    "Set-Location -Path \"../Aula1\""
   ]
  },
  {
   "cell_type": "markdown",
   "id": "05b11f71",
   "metadata": {},
   "source": [
    "## Testando a função Get-Type"
   ]
  },
  {
   "cell_type": "code",
   "execution_count": 7,
   "id": "04de46e5",
   "metadata": {},
   "outputs": [
    {
     "name": "stdout",
     "output_type": "stream",
     "text": [
      "\n",
      "IsPublic IsSerial Name                                     BaseType                                                    \n",
      "-------- -------- ----                                     --------                                                    \n",
      "True     True     String                                   System.Object                                               \n",
      "\n",
      "\n"
     ]
    }
   ],
   "source": [
    "$($env:Path.GetType())"
   ]
  },
  {
   "cell_type": "markdown",
   "id": "6f51ade6",
   "metadata": {},
   "source": [
    "## Mostrando a variável de ambiente Path"
   ]
  },
  {
   "cell_type": "markdown",
   "id": "97d127f9",
   "metadata": {},
   "source": [
    "Mostrando a variável de ambiente Path no Prompt de Comando:"
   ]
  },
  {
   "cell_type": "code",
   "execution_count": 8,
   "id": "be696dba",
   "metadata": {},
   "outputs": [
    {
     "name": "stdout",
     "output_type": "stream",
     "text": [
      "C:\\Program Files\\AdoptOpenJDK\\jdk-8.0.292.10-hotspot\\bin;C:\\Windows\\system32;C:\\Windows;C:\\Windows\\System32\\Wbem;C:\\Windows\\System32\\WindowsPowerShell\\v1.0\\;C:\\Windows\\System32\\OpenSSH\\;C:\\Program Files (x86)\\NVIDIA Corporation\\PhysX\\Common;C:\\ProgramData\\chocolatey\\bin;C:\\Program Files\\Git\\cmd;C:\\ProgramData\\chocolatey\\lib\\gsudo\\bin\\;C:\\Program Files\\Java\\jdk1.8.0_211\\bin;;C:\\Program Files\\Microsoft VS Code\\bin;C:\\Users\\Henrique\\AppData\\Local\\Microsoft\\WindowsApps;C:\\Program Files (x86)\\GitHub CLI\\;C:\\Users\\Henrique\\AppData\\Local\\GitHubDesktop\\bin;C:\\Program Files\\Oracle\\VirtualBox;C:\\Users\\Henrique\\AppData\\Local\\Packages\\PythonSoftwareFoundation.Python.3.9_qbz5n2kfra8p0\\LocalCache\\local-packages\\Python39\\Scripts\n"
     ]
    }
   ],
   "source": [
    "cmd /C \"echo %PATH%\""
   ]
  },
  {
   "cell_type": "markdown",
   "id": "5173a790",
   "metadata": {},
   "source": [
    "Mostrando a variável de ambiente no PowerShell:"
   ]
  },
  {
   "cell_type": "code",
   "execution_count": 9,
   "id": "a67b1908",
   "metadata": {},
   "outputs": [
    {
     "name": "stdout",
     "output_type": "stream",
     "text": [
      "C:\\Program Files\\AdoptOpenJDK\\jdk-8.0.292.10-hotspot\\bin;C:\\Windows\\system32;C:\\Windows;C:\\Windows\\System32\\Wbem;C:\\Windows\\System32\\WindowsPowerShell\\v1.0\\;C:\\Windows\\System32\\OpenSSH\\;C:\\Program Files (x86)\\NVIDIA Corporation\\PhysX\\Common;C:\\ProgramData\\chocolatey\\bin;C:\\Program Files\\Git\\cmd;C:\\ProgramData\\chocolatey\\lib\\gsudo\\bin\\;C:\\Program Files\\Java\\jdk1.8.0_211\\bin;;C:\\Program Files\\Microsoft VS Code\\bin;C:\\Users\\Henrique\\AppData\\Local\\Microsoft\\WindowsApps;C:\\Program Files (x86)\\GitHub CLI\\;C:\\Users\\Henrique\\AppData\\Local\\GitHubDesktop\\bin;C:\\Program Files\\Oracle\\VirtualBox;C:\\Users\\Henrique\\AppData\\Local\\Packages\\PythonSoftwareFoundation.Python.3.9_qbz5n2kfra8p0\\LocalCache\\local-packages\\Python39\\Scripts\n"
     ]
    }
   ],
   "source": [
    "$env:Path"
   ]
  },
  {
   "cell_type": "markdown",
   "id": "1ea94086",
   "metadata": {},
   "source": [
    "Mostrando a variável de ambiente no PowerShell com quebra de linha:"
   ]
  },
  {
   "cell_type": "code",
   "execution_count": 10,
   "id": "ebb998a0",
   "metadata": {},
   "outputs": [
    {
     "name": "stdout",
     "output_type": "stream",
     "text": [
      "C:\\Program Files\\AdoptOpenJDK\\jdk-8.0.292.10-hotspot\\bin\n",
      "C:\\Windows\\system32\n",
      "C:\\Windows\n",
      "C:\\Windows\\System32\\Wbem\n",
      "C:\\Windows\\System32\\WindowsPowerShell\\v1.0\\\n",
      "C:\\Windows\\System32\\OpenSSH\\\n",
      "C:\\Program Files (x86)\\NVIDIA Corporation\\PhysX\\Common\n",
      "C:\\ProgramData\\chocolatey\\bin\n",
      "C:\\Program Files\\Git\\cmd\n",
      "C:\\ProgramData\\chocolatey\\lib\\gsudo\\bin\\\n",
      "C:\\Program Files\\Java\\jdk1.8.0_211\\bin\n",
      "\n",
      "C:\\Program Files\\Microsoft VS Code\\bin\n",
      "C:\\Users\\Henrique\\AppData\\Local\\Microsoft\\WindowsApps\n",
      "C:\\Program Files (x86)\\GitHub CLI\\\n",
      "C:\\Users\\Henrique\\AppData\\Local\\GitHubDesktop\\bin\n",
      "C:\\Program Files\\Oracle\\VirtualBox\n",
      "C:\\Users\\Henrique\\AppData\\Local\\Packages\\PythonSoftwareFoundation.Python.3.9_qbz5n2kfra8p0\\LocalCache\\local-packages\\Python39\\Scripts\n"
     ]
    }
   ],
   "source": [
    "$variavelAmbientePath = $env:Path.Split(\";\")\n",
    "foreach ($caminho in $variavelAmbientePath)\n",
    "{\n",
    "    Write-Output $caminho\n",
    "}"
   ]
  },
  {
   "cell_type": "markdown",
   "id": "e2781dae",
   "metadata": {},
   "source": [
    "## Testando a função Get-Member"
   ]
  },
  {
   "cell_type": "code",
   "execution_count": 11,
   "id": "96e3ceaf",
   "metadata": {},
   "outputs": [
    {
     "name": "stdout",
     "output_type": "stream",
     "text": [
      "\n",
      "\n",
      "   TypeName: System.String\n",
      "\n",
      "Name             MemberType            Definition                                                                      \n",
      "----             ----------            ----------                                                                      \n",
      "Clone            Method                System.Object Clone(), System.Object ICloneable.Clone()                         \n",
      "CompareTo        Method                int CompareTo(System.Object value), int CompareTo(string strB), int IComparab...\n",
      "Contains         Method                bool Contains(string value)                                                     \n",
      "CopyTo           Method                void CopyTo(int sourceIndex, char[] destination, int destinationIndex, int co...\n",
      "EndsWith         Method                bool EndsWith(string value), bool EndsWith(string value, System.StringCompari...\n",
      "Equals           Method                bool Equals(System.Object obj), bool Equals(string value), bool Equals(string...\n",
      "GetEnumerator    Method                System.CharEnumerator GetEnumerator(), System.Collections.IEnumerator IEnumer...\n",
      "GetHashCode      Method                int GetHashCode()                                                               \n",
      "GetType          Method                type GetType()                                                                  \n",
      "GetTypeCode      Method                System.TypeCode GetTypeCode(), System.TypeCode IConvertible.GetTypeCode()       \n",
      "IndexOf          Method                int IndexOf(char value), int IndexOf(char value, int startIndex), int IndexOf...\n",
      "IndexOfAny       Method                int IndexOfAny(char[] anyOf), int IndexOfAny(char[] anyOf, int startIndex), i...\n",
      "Insert           Method                string Insert(int startIndex, string value)                                     \n",
      "IsNormalized     Method                bool IsNormalized(), bool IsNormalized(System.Text.NormalizationForm normaliz...\n",
      "LastIndexOf      Method                int LastIndexOf(char value), int LastIndexOf(char value, int startIndex), int...\n",
      "LastIndexOfAny   Method                int LastIndexOfAny(char[] anyOf), int LastIndexOfAny(char[] anyOf, int startI...\n",
      "Normalize        Method                string Normalize(), string Normalize(System.Text.NormalizationForm normalizat...\n",
      "PadLeft          Method                string PadLeft(int totalWidth), string PadLeft(int totalWidth, char paddingChar)\n",
      "PadRight         Method                string PadRight(int totalWidth), string PadRight(int totalWidth, char padding...\n",
      "Remove           Method                string Remove(int startIndex, int count), string Remove(int startIndex)         \n",
      "Replace          Method                string Replace(char oldChar, char newChar), string Replace(string oldValue, s...\n",
      "Split            Method                string[] Split(Params char[] separator), string[] Split(char[] separator, int...\n",
      "StartsWith       Method                bool StartsWith(string value), bool StartsWith(string value, System.StringCom...\n",
      "Substring        Method                string Substring(int startIndex), string Substring(int startIndex, int length)  \n",
      "ToBoolean        Method                bool IConvertible.ToBoolean(System.IFormatProvider provider)                    \n",
      "ToByte           Method                byte IConvertible.ToByte(System.IFormatProvider provider)                       \n",
      "ToChar           Method                char IConvertible.ToChar(System.IFormatProvider provider)                       \n",
      "ToCharArray      Method                char[] ToCharArray(), char[] ToCharArray(int startIndex, int length)            \n",
      "ToDateTime       Method                datetime IConvertible.ToDateTime(System.IFormatProvider provider)               \n",
      "ToDecimal        Method                decimal IConvertible.ToDecimal(System.IFormatProvider provider)                 \n",
      "ToDouble         Method                double IConvertible.ToDouble(System.IFormatProvider provider)                   \n",
      "ToInt16          Method                int16 IConvertible.ToInt16(System.IFormatProvider provider)                     \n",
      "ToInt32          Method                int IConvertible.ToInt32(System.IFormatProvider provider)                       \n",
      "ToInt64          Method                long IConvertible.ToInt64(System.IFormatProvider provider)                      \n",
      "ToLower          Method                string ToLower(), string ToLower(cultureinfo culture)                           \n",
      "ToLowerInvariant Method                string ToLowerInvariant()                                                       \n",
      "ToSByte          Method                sbyte IConvertible.ToSByte(System.IFormatProvider provider)                     \n",
      "ToSingle         Method                float IConvertible.ToSingle(System.IFormatProvider provider)                    \n",
      "ToString         Method                string ToString(), string ToString(System.IFormatProvider provider), string I...\n",
      "ToType           Method                System.Object IConvertible.ToType(type conversionType, System.IFormatProvider...\n",
      "ToUInt16         Method                uint16 IConvertible.ToUInt16(System.IFormatProvider provider)                   \n",
      "ToUInt32         Method                uint32 IConvertible.ToUInt32(System.IFormatProvider provider)                   \n",
      "ToUInt64         Method                uint64 IConvertible.ToUInt64(System.IFormatProvider provider)                   \n",
      "ToUpper          Method                string ToUpper(), string ToUpper(cultureinfo culture)                           \n",
      "ToUpperInvariant Method                string ToUpperInvariant()                                                       \n",
      "Trim             Method                string Trim(Params char[] trimChars), string Trim()                             \n",
      "TrimEnd          Method                string TrimEnd(Params char[] trimChars)                                         \n",
      "TrimStart        Method                string TrimStart(Params char[] trimChars)                                       \n",
      "Chars            ParameterizedProperty char Chars(int index) {get;}                                                    \n",
      "Length           Property              int Length {get;}                                                               \n",
      "\n",
      "\n"
     ]
    }
   ],
   "source": [
    "Get-Member -InputObject $env:Path"
   ]
  },
  {
   "cell_type": "markdown",
   "id": "0930c18a",
   "metadata": {},
   "source": [
    "## Testando a função Get-Alias"
   ]
  },
  {
   "cell_type": "markdown",
   "id": "635fee21",
   "metadata": {},
   "source": [
    "Mostrando todos os alias:"
   ]
  },
  {
   "cell_type": "code",
   "execution_count": 12,
   "id": "d4f37815",
   "metadata": {},
   "outputs": [
    {
     "name": "stdout",
     "output_type": "stream",
     "text": [
      "\n",
      "CommandType     Name                                               Version    Source                                   \n",
      "-----------     ----                                               -------    ------                                   \n",
      "Alias           % -> ForEach-Object                                                                                    \n",
      "Alias           ? -> Where-Object                                                                                      \n",
      "Alias           ac -> Add-Content                                                                                      \n",
      "Alias           asnp -> Add-PSSnapin                                                                                   \n",
      "Alias           cat -> Get-Content                                                                                     \n",
      "Alias           cd -> Set-Location                                                                                     \n",
      "Alias           CFS -> ConvertFrom-String                          3.1.0.0    Microsoft.PowerShell.Utility             \n",
      "Alias           chdir -> Set-Location                                                                                  \n",
      "Alias           clc -> Clear-Content                                                                                   \n",
      "Alias           clear -> Clear-Host                                                                                    \n",
      "Alias           clhy -> Clear-History                                                                                  \n",
      "Alias           cli -> Clear-Item                                                                                      \n",
      "Alias           clp -> Clear-ItemProperty                                                                              \n",
      "Alias           cls -> Clear-Host                                                                                      \n",
      "Alias           clv -> Clear-Variable                                                                                  \n",
      "Alias           cnsn -> Connect-PSSession                                                                              \n",
      "Alias           compare -> Compare-Object                                                                              \n",
      "Alias           copy -> Copy-Item                                                                                      \n",
      "Alias           cp -> Copy-Item                                                                                        \n",
      "Alias           cpi -> Copy-Item                                                                                       \n",
      "Alias           cpp -> Copy-ItemProperty                                                                               \n",
      "Alias           curl -> Invoke-WebRequest                                                                              \n",
      "Alias           cvpa -> Convert-Path                                                                                   \n",
      "Alias           dbp -> Disable-PSBreakpoint                                                                            \n",
      "Alias           del -> Remove-Item                                                                                     \n",
      "Alias           diff -> Compare-Object                                                                                 \n",
      "Alias           dir -> Get-ChildItem                                                                                   \n",
      "Alias           dnsn -> Disconnect-PSSession                                                                           \n",
      "Alias           ebp -> Enable-PSBreakpoint                                                                             \n",
      "Alias           echo -> Write-Output                                                                                   \n",
      "Alias           epal -> Export-Alias                                                                                   \n",
      "Alias           epcsv -> Export-Csv                                                                                    \n",
      "Alias           epsn -> Export-PSSession                                                                               \n",
      "Alias           erase -> Remove-Item                                                                                   \n",
      "Alias           etsn -> Enter-PSSession                                                                                \n",
      "Alias           exsn -> Exit-PSSession                                                                                 \n",
      "Alias           fc -> Format-Custom                                                                                    \n",
      "Alias           fhx -> Format-Hex                                  3.1.0.0    Microsoft.PowerShell.Utility             \n",
      "Alias           fl -> Format-List                                                                                      \n",
      "Alias           foreach -> ForEach-Object                                                                              \n",
      "Alias           ft -> Format-Table                                                                                     \n",
      "Alias           fw -> Format-Wide                                                                                      \n",
      "Alias           gal -> Get-Alias                                                                                       \n",
      "Alias           gbp -> Get-PSBreakpoint                                                                                \n",
      "Alias           gc -> Get-Content                                                                                      \n",
      "Alias           gcb -> Get-Clipboard                               3.1.0.0    Microsoft.PowerShell.Management          \n",
      "Alias           gci -> Get-ChildItem                                                                                   \n",
      "Alias           gcm -> Get-Command                                                                                     \n",
      "Alias           gcs -> Get-PSCallStack                                                                                 \n",
      "Alias           gdr -> Get-PSDrive                                                                                     \n",
      "Alias           ghy -> Get-History                                                                                     \n",
      "Alias           gi -> Get-Item                                                                                         \n",
      "Alias           gin -> Get-ComputerInfo                            3.1.0.0    Microsoft.PowerShell.Management          \n",
      "Alias           gjb -> Get-Job                                                                                         \n",
      "Alias           gl -> Get-Location                                                                                     \n",
      "Alias           gm -> Get-Member                                                                                       \n",
      "Alias           gmo -> Get-Module                                                                                      \n",
      "Alias           gp -> Get-ItemProperty                                                                                 \n",
      "Alias           gps -> Get-Process                                                                                     \n",
      "Alias           gpv -> Get-ItemPropertyValue                                                                           \n",
      "Alias           group -> Group-Object                                                                                  \n",
      "Alias           gsn -> Get-PSSession                                                                                   \n",
      "Alias           gsnp -> Get-PSSnapin                                                                                   \n",
      "Alias           gsv -> Get-Service                                                                                     \n",
      "Alias           gtz -> Get-TimeZone                                3.1.0.0    Microsoft.PowerShell.Management          \n",
      "Alias           gu -> Get-Unique                                                                                       \n",
      "Alias           gv -> Get-Variable                                                                                     \n",
      "Alias           gwmi -> Get-WmiObject                                                                                  \n",
      "Alias           h -> Get-History                                                                                       \n",
      "Alias           history -> Get-History                                                                                 \n",
      "Alias           icm -> Invoke-Command                                                                                  \n",
      "Alias           iex -> Invoke-Expression                                                                               \n",
      "Alias           ihy -> Invoke-History                                                                                  \n",
      "Alias           ii -> Invoke-Item                                                                                      \n",
      "Alias           ipal -> Import-Alias                                                                                   \n",
      "Alias           ipcsv -> Import-Csv                                                                                    \n",
      "Alias           ipmo -> Import-Module                                                                                  \n",
      "Alias           ipsn -> Import-PSSession                                                                               \n",
      "Alias           irm -> Invoke-RestMethod                                                                               \n",
      "Alias           ise -> powershell_ise.exe                                                                              \n",
      "Alias           iwmi -> Invoke-WmiMethod                                                                               \n",
      "Alias           iwr -> Invoke-WebRequest                                                                               \n",
      "Alias           kill -> Stop-Process                                                                                   \n",
      "Alias           lp -> Out-Printer                                                                                      \n",
      "Alias           ls -> Get-ChildItem                                                                                    \n",
      "Alias           man -> help                                                                                            \n",
      "Alias           md -> mkdir                                                                                            \n",
      "Alias           measure -> Measure-Object                                                                              \n",
      "Alias           mi -> Move-Item                                                                                        \n",
      "Alias           mount -> New-PSDrive                                                                                   \n"
     ]
    },
    {
     "name": "stdout",
     "output_type": "stream",
     "text": [
      "Alias           Alias           gtz -> Get-TimeZone                                3.1.0.0    Microsoft.PowerShell.Management          \n",
      "Alias           gu -> Get-Unique                                                                                       \n",
      "Alias           gv -> Get-Variable                                                                                     \n",
      "Alias           gwmi -> Get-WmiObject                                                                                  \n",
      "Alias           h -> Get-History                                                                                       \n",
      "Alias           history -> Get-History                                                                                 \n",
      "Alias           icm -> Invoke-Command                                                                                  \n",
      "Alias           iex -> Invoke-Expression                                                                               \n",
      "Alias           ihy -> Invoke-History                                                                                  \n",
      "Alias           ii -> Invoke-Item                                                                                      \n",
      "Alias           ipal -> Import-Alias                                                                                   \n",
      "Alias           ipcsv -> Import-Csv                                                                                    \n",
      "Alias           ipmo -> Import-Module                                                                                  \n",
      "Alias           ipsn -> Import-PSSession                                                                               \n",
      "Alias           irm -> Invoke-RestMethod                                                                               \n",
      "Alias           ise -> powershell_ise.exe                                                                              \n",
      "Alias           iwmi -> Invoke-WmiMethod                                                                               \n",
      "Alias           iwr -> Invoke-WebRequest                                                                               \n",
      "Alias           kill -> Stop-Process                                                                                   \n",
      "Alias           lp -> Out-Printer                                                                                      \n",
      "Alias           ls -> Get-ChildItem                                                                                    \n",
      "Alias           man -> help                                                                                            \n",
      "Alias           md -> mkdir                                                                                            \n",
      "Alias           measure -> Measure-Object                                                                              \n",
      "Alias           mi -> Move-Item                                                                                        \n",
      "Alias           mount -> New-PSDrive                                                                                   \n",
      "Alias           move -> Move-Item                                                                                      \n",
      "Alias           mp -> Move-ItemProperty                                                                                \n",
      "Alias           mv -> Move-Item                                                                                        \n",
      "Alias           nal -> New-Alias                                                                                       \n",
      "Alias           ndr -> New-PSDrive                                                                                     \n",
      "Alias           ni -> New-Item                                                                                         \n",
      "Alias           nmo -> New-Module                                                                                      \n",
      "Alias           npssc -> New-PSSessionConfigurationFile                                                                \n",
      "Alias           nsn -> New-PSSession                                                                                   \n",
      "Alias           nv -> New-Variable                                                                                     \n",
      "Alias           ogv -> Out-GridView                                                                                    \n",
      "Alias           oh -> Out-Host                                                                                         \n",
      "Alias           popd -> Pop-Location                                                                                   \n",
      "Alias           ps -> Get-Process                                                                                      \n",
      "Alias           pushd -> Push-Location                                                                                 \n",
      "Alias           pwd -> Get-Location                                                                                    \n",
      "Alias           r -> Invoke-History                                                                                    \n",
      "Alias           rbp -> Remove-PSBreakpoint                                                                             \n",
      "Alias           rcjb -> Receive-Job                                                                                    \n",
      "Alias           rcsn -> Receive-PSSession                                                                              \n",
      "Alias           rd -> Remove-Item                                                                                      \n",
      "Alias           rdr -> Remove-PSDrive                                                                                  \n",
      "Alias           ren -> Rename-Item                                                                                     \n",
      "Alias           ri -> Remove-Item                                                                                      \n",
      "Alias           rjb -> Remove-Job                                                                                      \n",
      "Alias           rm -> Remove-Item                                                                                      \n",
      "Alias           rmdir -> Remove-Item                                                                                   \n",
      "Alias           rmo -> Remove-Module                                                                                   \n",
      "Alias           rni -> Rename-Item                                                                                     \n",
      "Alias           rnp -> Rename-ItemProperty                                                                             \n",
      "Alias           rp -> Remove-ItemProperty                                                                              \n",
      "Alias           rsn -> Remove-PSSession                                                                                \n",
      "Alias           rsnp -> Remove-PSSnapin                                                                                \n",
      "Alias           rujb -> Resume-Job                                                                                     \n",
      "Alias           rv -> Remove-Variable                                                                                  \n",
      "Alias           rvpa -> Resolve-Path                                                                                   \n",
      "Alias           rwmi -> Remove-WmiObject                                                                               \n",
      "Alias           sajb -> Start-Job                                                                                      \n",
      "Alias           sal -> Set-Alias                                                                                       \n",
      "Alias           saps -> Start-Process                                                                                  \n",
      "Alias           sasv -> Start-Service                                                                                  \n",
      "Alias           sbp -> Set-PSBreakpoint                                                                                \n",
      "Alias           sc -> Set-Content                                                                                      \n",
      "Alias           scb -> Set-Clipboard                               3.1.0.0    Microsoft.PowerShell.Management          \n",
      "Alias           select -> Select-Object                                                                                \n",
      "Alias           set -> Set-Variable                                                                                    \n",
      "Alias           shcm -> Show-Command                                                                                   \n",
      "Alias           si -> Set-Item                                                                                         \n",
      "Alias           sl -> Set-Location                                                                                     \n",
      "Alias           sleep -> Start-Sleep                                                                                   \n",
      "Alias           sls -> Select-String                                                                                   \n",
      "Alias           sort -> Sort-Object                                                                                    \n",
      "Alias           sp -> Set-ItemProperty                                                                                 \n",
      "Alias           spjb -> Stop-Job                                                                                       \n",
      "Alias           spps -> Stop-Process                                                                                   \n",
      "Alias           spsv -> Stop-Service                                                                                   \n",
      "Alias           start -> Start-Process                                                                                 \n",
      "Alias           stz -> Set-TimeZone                                3.1.0.0    Microsoft.PowerShell.Management          \n",
      "Alias           sujb -> Suspend-Job                                                                                    \n",
      "Alias           sv -> Set-Variable                                                                                     \n",
      "Alias           swmi -> Set-WmiInstance                                                                                \n",
      "Alias           tee -> Tee-Object                                                                                      \n",
      "Alias           trcm -> Trace-Command                                                                                  \n",
      "Alias           type -> Get-Content                                                                                    \n",
      "Alias           wget -> Invoke-WebRequest                                                                              \n",
      "Alias           where -> Where-Object                                                                                  \n",
      "Alias           wjb -> Wait-Job                                                                                        \n",
      "Alias           write -> Write-Output                                                                                  \n",
      "\n",
      "\n"
     ]
    }
   ],
   "source": [
    "Get-Alias"
   ]
  },
  {
   "cell_type": "markdown",
   "id": "ccb3cf4d",
   "metadata": {},
   "source": [
    "Mostrando os alias que mais utilizo:"
   ]
  },
  {
   "cell_type": "code",
   "execution_count": 13,
   "id": "33a9af5d",
   "metadata": {},
   "outputs": [
    {
     "name": "stdout",
     "output_type": "stream",
     "text": [
      "\n",
      "CommandType     Name                                               Version    Source                                   \n",
      "-----------     ----                                               -------    ------                                   \n",
      "Alias           ls -> Get-ChildItem                                                                                    \n",
      "Alias           dir -> Get-ChildItem                                                                                   \n",
      "Alias           cd -> Set-Location                                                                                     \n",
      "Alias           rm -> Remove-Item                                                                                      \n",
      "Alias           clear -> Clear-Host                                                                                    \n",
      "Alias           cp -> Copy-Item                                                                                        \n",
      "Alias           mv -> Move-Item                                                                                        \n",
      "\n",
      "\n"
     ]
    }
   ],
   "source": [
    "Get-Alias -Name \"ls\"\n",
    "Get-Alias -Name \"dir\"\n",
    "Get-Alias -Name \"cd\"\n",
    "Get-Alias -Name \"rm\"\n",
    "Get-Alias -Name \"clear\"\n",
    "Get-Alias -Name \"cp\"\n",
    "Get-Alias -Name \"mv\""
   ]
  },
  {
   "cell_type": "markdown",
   "id": "2ec4d9cd",
   "metadata": {},
   "source": [
    "## Testando a função Get-Command"
   ]
  },
  {
   "cell_type": "markdown",
   "id": "a4119c6d",
   "metadata": {},
   "source": [
    "Get-Command com parâmetro -Verb \"\\*rename\\*\":"
   ]
  },
  {
   "cell_type": "code",
   "execution_count": 14,
   "id": "1066bf90",
   "metadata": {},
   "outputs": [
    {
     "name": "stdout",
     "output_type": "stream",
     "text": [
      "\n",
      "CommandType     Name                                               Version    Source                                   \n",
      "-----------     ----                                               -------    ------                                   \n",
      "Function        Rename-DAEntryPointTableItem                       1.0.0.0    DirectAccessClientComponents             \n",
      "Function        Rename-MaskingSet                                  2.0.0.0    Storage                                  \n",
      "Function        Rename-NetAdapter                                  2.0.0.0    NetAdapter                               \n",
      "Function        Rename-NetFirewallRule                             2.0.0.0    NetSecurity                              \n",
      "Function        Rename-NetIPHttpsConfiguration                     1.0.0.0    NetworkTransition                        \n",
      "Function        Rename-NetIPsecMainModeCryptoSet                   2.0.0.0    NetSecurity                              \n",
      "Function        Rename-NetIPsecMainModeRule                        2.0.0.0    NetSecurity                              \n",
      "Function        Rename-NetIPsecPhase1AuthSet                       2.0.0.0    NetSecurity                              \n",
      "Function        Rename-NetIPsecPhase2AuthSet                       2.0.0.0    NetSecurity                              \n",
      "Function        Rename-NetIPsecQuickModeCryptoSet                  2.0.0.0    NetSecurity                              \n",
      "Function        Rename-NetIPsecRule                                2.0.0.0    NetSecurity                              \n",
      "Function        Rename-NetLbfoTeam                                 2.0.0.0    NetLbfo                                  \n",
      "Function        Rename-NetSwitchTeam                               1.0.0.0    NetSwitchTeam                            \n",
      "Function        Rename-Printer                                     1.1        PrintManagement                          \n",
      "Cmdlet          Rename-Computer                                    3.1.0.0    Microsoft.PowerShell.Management          \n",
      "Cmdlet          Rename-Item                                        3.1.0.0    Microsoft.PowerShell.Management          \n",
      "Cmdlet          Rename-ItemProperty                                3.1.0.0    Microsoft.PowerShell.Management          \n",
      "Cmdlet          Rename-LocalGroup                                  1.0.0.0    Microsoft.PowerShell.LocalAccounts       \n",
      "Cmdlet          Rename-LocalUser                                   1.0.0.0    Microsoft.PowerShell.LocalAccounts       \n",
      "\n",
      "\n"
     ]
    }
   ],
   "source": [
    "Get-Command -Verb \"*rename*\""
   ]
  },
  {
   "cell_type": "markdown",
   "id": "8bd1a915",
   "metadata": {},
   "source": [
    "## Testando a função Get-Help"
   ]
  },
  {
   "cell_type": "markdown",
   "id": "0c9b7043",
   "metadata": {},
   "source": [
    "Get-Help com parâmetro -Name \"Rename-Item\":"
   ]
  },
  {
   "cell_type": "code",
   "execution_count": 15,
   "id": "b13a48d1",
   "metadata": {},
   "outputs": [
    {
     "name": "stdout",
     "output_type": "stream",
     "text": [
      "\n",
      "NOME\n",
      "    Rename-Item\n",
      "    \n",
      "SINTAXE\n",
      "    Rename-Item [-Path] <string> [-NewName] <string>  [<CommonParameters>]\n",
      "    \n",
      "    Rename-Item [-NewName] <string>  [<CommonParameters>]\n",
      "    \n",
      "\n",
      "ALIASES\n",
      "    rni\n",
      "    ren\n",
      "    \n",
      "\n",
      "COMENT■RIOS\n",
      "    Get-Help n■ consegue localizar os arquivos de Ajuda para o cmdlet neste computador. Apenas a ajuda parcial est■ \n",
      "    sendo exibida.\n",
      "        -- Para baixar e instalar arquivos de Ajuda para o m■dulo que inclui esse cmdlet, use Update-Help.\n",
      "        -- Para visualizar o t■pico de Ajuda desse cmdlet online, digite: \"Get-Help Rename-Item -Online\" ou \n",
      "           acesse https://go.microsoft.com/fwlink/?LinkID=113382.\n",
      "\n",
      "\n",
      "\n"
     ]
    }
   ],
   "source": [
    "Get-Help -Name \"Rename-Item\""
   ]
  },
  {
   "cell_type": "markdown",
   "id": "69daf2bc",
   "metadata": {},
   "source": [
    "## Testando o parâmetro -WhatIf"
   ]
  },
  {
   "cell_type": "markdown",
   "id": "195fd6fb",
   "metadata": {},
   "source": [
    "Rename-Item com o parâmetro -WhatIf:"
   ]
  },
  {
   "cell_type": "code",
   "execution_count": 16,
   "id": "0aa61843",
   "metadata": {},
   "outputs": [
    {
     "name": "stdout",
     "output_type": "stream",
     "text": [
      "Rename-Item : N■ ■ poss■vel renomear porque o item em 'a.bat' n■ existe.\n",
      "No linha:2 caractere:1\n",
      "+ Rename-Item -Path \"a.bat\" -NewName \"a_migrando_Henrique.bat\" -WhatIf\n",
      "+ ~~~~~~~~~~~~~~~~~~~~~~~~~~~~~~~~~~~~~~~~~~~~~~~~~~~~~~~~~~~~~~~~~~~~\n",
      "    + CategoryInfo          : InvalidOperation: (:) [Rename-Item], PSInvalidOperationException\n",
      "    + FullyQualifiedErrorId : InvalidOperation,Microsoft.PowerShell.Commands.RenameItemCommand\n",
      " \n"
     ]
    }
   ],
   "source": [
    "Rename-Item -Path \"a.bat\" -NewName \"a_migrando_Henrique.bat\" -WhatIf"
   ]
  },
  {
   "cell_type": "markdown",
   "id": "d9d832b8",
   "metadata": {},
   "source": [
    "## Testando a função Update-Help"
   ]
  },
  {
   "cell_type": "code",
   "execution_count": 17,
   "id": "0a497890",
   "metadata": {},
   "outputs": [
    {
     "name": "stdout",
     "output_type": "stream",
     "text": [
      "Update-Help : Falha ao atualizar Ajuda para o(s) m■dulo(s): \n",
      "'AppBackgroundTask, Appx, BitLocker, BitsTransfer, CimCmdlets, Defender, DirectAccessClientComponents, Dism, \n",
      "DnsClient, EventTracingManagement, International, iSCSI, ISE, Kds, Microsoft.PowerShell.Archive, \n",
      "Microsoft.PowerShell.Core, Microsoft.PowerShell.Diagnostics, Microsoft.PowerShell.Host, \n",
      "Microsoft.PowerShell.LocalAccounts, Microsoft.PowerShell.Management, Microsoft.PowerShell.ODataUtils, \n",
      "Microsoft.PowerShell.Security, Microsoft.PowerShell.Utility, Microsoft.WSMan.Management, MMAgent, MsDtc, NetAdapter, \n",
      "NetConnection, NetEventPacketCapture, NetLbfo, NetNat, NetQos, NetSecurity, NetSwitchTeam, NetTCPIP, \n",
      "NetworkConnectivityStatus, NetworkSwitchManager, NetworkTransition, PackageManagement, PcsvDevice, PKI, PnpDevice, \n",
      "PowerShellGet, PrintManagement, ProcessMitigations, Provisioning, PSDesiredStateConfiguration, PSScheduledJob, \n",
      "PSWorkflow, PSWorkflowUtility, ScheduledTasks, SecureBoot, SmbShare, SmbWitness, StartLayout, Storage, TLS, \n",
      "TroubleshootingPack, TrustedPlatformModule, VpnClient, Wdac, Whea, WindowsDeveloperLicense, WindowsErrorReporting, \n",
      "WindowsSearch, WindowsUpdate'\n",
      "Acesso negado. O comando n■ p■de atualizar os t■picos da Ajuda para os m■dulos principais do Windows PowerShell ou \n",
      "para qualquer m■dulo no diret■rio $pshome\\Modules. Para atualizar estes t■picos da Ajuda, inicie o Windows PowerShell \n",
      "usando o comando \"Executar como Administrador\" e tente executar Update-Help novamente.\n",
      "No linha:2 caractere:1\n",
      "+ Update-Help\n",
      "+ ~~~~~~~~~~~\n",
      "    + CategoryInfo          : InvalidOperation: (:) [Update-Help], Exception\n",
      "    + FullyQualifiedErrorId : UpdatableHelpSystemRequiresElevation,Microsoft.PowerShell.Commands.UpdateHelpCommand\n",
      " \n",
      "Update-Help : Falha ao atualizar Ajuda para o(s) m■dulo(s) 'AU' com a(s) cultura(s) da interface de usu■rio {pt-BR} : \n",
      "O valor da chave HelpInfoUri no manifesto de m■dulo deve ser resolvido para um cont■iner ou uma URL raiz em um site no \n",
      "qual os arquivos de ajuda est■ armazenados. O HelpInfoUri 'https://github.com/majkinetor/au/blob/master/README.md' \n",
      "n■ ■ resolvido para um cont■iner.\n",
      "No linha:2 caractere:1\n",
      "+ Update-Help\n",
      "+ ~~~~~~~~~~~\n",
      "    + CategoryInfo          : InvalidOperation: (:) [Update-Help], Exception\n",
      "    + FullyQualifiedErrorId : InvalidHelpInfoUri,Microsoft.PowerShell.Commands.UpdateHelpCommand\n",
      " \n",
      "Update-Help : Falha ao atualizar Ajuda para o(s) m■dulo(s) 'Microsoft.PowerShell.Operation.Validation' com a(s) \n",
      "cultura(s) da interface de usu■rio {en-US} : O acesso ao caminho 'C:\\Program \n",
      "Files\\WindowsPowerShell\\Modules\\Microsoft.PowerShell.Operation.Validation\\1.0.1\\en-US' foi negado.\n",
      "No linha:2 caractere:1\n",
      "+ Update-Help\n",
      "+ ~~~~~~~~~~~\n",
      "    + CategoryInfo          : InvalidOperation: (:) [Update-Help], Exception\n",
      "    + FullyQualifiedErrorId : UnknownErrorId,Microsoft.PowerShell.Commands.UpdateHelpCommand\n",
      " \n",
      "Update-Help : Falha ao atualizar Ajuda para o(s) m■dulo(s) 'ConfigDefender, PSReadline' com a(s) cultura(s) da \n",
      "interface de usu■rio {pt-BR} : N■ ■ poss■vel recuperar o arquivo XML HelpInfo para a cultura da Interface do Usu■rio \n",
      "pt-BR. Verifique se a propriedade HelpInfoUri no manifesto do m■dulo ■ v■lida ou confira sua conex■ de rede e depois \n",
      "tente novamente o comando.\n",
      "No linha:2 caractere:1\n",
      "+ Update-Help\n",
      "+ ~~~~~~~~~~~\n",
      "    + CategoryInfo          : ResourceUnavailable: (:) [Update-Help], Exception\n",
      "    + FullyQualifiedErrorId : UnableToRetrieveHelpInfoXml,Microsoft.PowerShell.Commands.UpdateHelpCommand\n",
      " \n"
     ]
    }
   ],
   "source": [
    "Update-Help"
   ]
  },
  {
   "cell_type": "markdown",
   "id": "77199fe8",
   "metadata": {},
   "source": [
    "Executando o comando anterior como administrador:"
   ]
  },
  {
   "cell_type": "code",
   "execution_count": 18,
   "id": "0e83dc9c",
   "metadata": {},
   "outputs": [
    {
     "name": "stdout",
     "output_type": "stream",
     "text": []
    }
   ],
   "source": [
    "Start-Process -FilePath \"powershell\" -ArgumentList \"Update-Help\" -Verb RunAs"
   ]
  }
 ],
 "metadata": {
  "kernelspec": {
   "display_name": "PowerShell",
   "language": "powershell",
   "name": "powershell"
  },
  "language_info": {
   "codemirror_mode": "shell",
   "file_extension": ".ps1",
   "mimetype": "text/x-sh",
   "name": "powershell"
  }
 },
 "nbformat": 4,
 "nbformat_minor": 5
}
