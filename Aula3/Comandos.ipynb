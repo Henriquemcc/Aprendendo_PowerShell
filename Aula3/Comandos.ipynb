{
 "cells": [
  {
   "cell_type": "markdown",
   "id": "670f5531",
   "metadata": {},
   "source": [
    "# Aula 3"
   ]
  },
  {
   "cell_type": "markdown",
   "id": "39380b67",
   "metadata": {},
   "source": [
    "## Mostrando o valor da variável de ambiente profile"
   ]
  },
  {
   "cell_type": "code",
   "execution_count": 3,
   "id": "f105cc1e",
   "metadata": {},
   "outputs": [
    {
     "name": "stdout",
     "output_type": "stream",
     "text": [
      "C:\\Users\\Henrique\\Documents\\WindowsPowerShell\\Microsoft.PowerShell_profile.ps1\n"
     ]
    }
   ],
   "source": [
    "$profile"
   ]
  },
  {
   "cell_type": "markdown",
   "id": "e4dd2d2f",
   "metadata": {},
   "source": [
    "## Testando a criação do arquivo profile do PowerShell CurrentUserCurrentHost"
   ]
  },
  {
   "cell_type": "markdown",
   "id": "a2738fb5",
   "metadata": {},
   "source": [
    "Verificando se o arquivo profile de CurrentUserCurrentHost existe:"
   ]
  },
  {
   "cell_type": "code",
   "execution_count": 6,
   "id": "903561fd",
   "metadata": {},
   "outputs": [
    {
     "name": "stdout",
     "output_type": "stream",
     "text": [
      "True\n"
     ]
    }
   ],
   "source": [
    "[System.IO.File]::Exists($profile.CurrentUserCurrentHost)"
   ]
  },
  {
   "cell_type": "markdown",
   "id": "9930e6e5",
   "metadata": {},
   "source": [
    "Criando o arquivo:"
   ]
  },
  {
   "cell_type": "code",
   "execution_count": 7,
   "id": "15c06f40",
   "metadata": {},
   "outputs": [
    {
     "name": "stdout",
     "output_type": "stream",
     "text": [
      "New-Item : O arquivo 'C:\\Users\\Henrique\\Documents\\WindowsPowerShell\\Microsoft.PowerShell_profile.ps1' j■ existe.\n",
      "No linha:2 caractere:1\n",
      "+ New-Item -Path $profile.CurrentUserCurrentHost\n",
      "+ ~~~~~~~~~~~~~~~~~~~~~~~~~~~~~~~~~~~~~~~~~~~~~~\n",
      "    + CategoryInfo          : WriteError: (C:\\Users\\Henriq...ell_profile.ps1:String) [New-Item], IOException\n",
      "    + FullyQualifiedErrorId : NewItemIOError,Microsoft.PowerShell.Commands.NewItemCommand\n",
      " \n"
     ]
    }
   ],
   "source": [
    "New-Item -Path $profile.CurrentUserCurrentHost"
   ]
  },
  {
   "cell_type": "markdown",
   "id": "f8b12bf2",
   "metadata": {},
   "source": [
    "Editando o arquivo com o NotePad:"
   ]
  },
  {
   "cell_type": "code",
   "execution_count": 8,
   "id": "d2b8ba8b",
   "metadata": {},
   "outputs": [
    {
     "name": "stdout",
     "output_type": "stream",
     "text": []
    }
   ],
   "source": [
    "notepad.exe $profile.CurrentUserCurrentHost"
   ]
  },
  {
   "cell_type": "markdown",
   "id": "ccf32e59",
   "metadata": {},
   "source": [
    "##  Mostrando a política de execução"
   ]
  },
  {
   "cell_type": "code",
   "execution_count": 12,
   "id": "bfabd7c9",
   "metadata": {},
   "outputs": [
    {
     "name": "stdout",
     "output_type": "stream",
     "text": [
      "Unrestricted\n"
     ]
    }
   ],
   "source": [
    "Get-ExecutionPolicy"
   ]
  },
  {
   "cell_type": "markdown",
   "id": "3bac9964",
   "metadata": {},
   "source": [
    "## Alterando a política de execução"
   ]
  },
  {
   "cell_type": "code",
   "execution_count": 10,
   "id": "9d6bdb83",
   "metadata": {},
   "outputs": [
    {
     "name": "stdout",
     "output_type": "stream",
     "text": [
      "Set-ExecutionPolicy : O acesso ■ chave do Registro \n",
      "'HKEY_LOCAL_MACHINE\\SOFTWARE\\Microsoft\\PowerShell\\1\\ShellIds\\Microsoft.PowerShell' foi negado. Para alterar a pol■tica \n",
      "de execu■■ para o escopo do padr■ (LocalMachine), inicie o Windows PowerShell com a op■■ \"Executar como \n",
      "administrador\". Para alterar a pol■tica de execu■■ para o usu■rio atual, execute \"Set-ExecutionPolicy -Scope \n",
      "CurrentUser\".\n",
      "No linha:2 caractere:1\n",
      "+ Set-ExecutionPolicy Unrestricted\n",
      "+ ~~~~~~~~~~~~~~~~~~~~~~~~~~~~~~~~\n",
      "    + CategoryInfo          : PermissionDenied: (:) [Set-ExecutionPolicy], UnauthorizedAccessException\n",
      "    + FullyQualifiedErrorId : System.UnauthorizedAccessException,Microsoft.PowerShell.Commands.SetExecutionPolicyComma \n",
      "   nd\n"
     ]
    }
   ],
   "source": [
    "Set-ExecutionPolicy Unrestricted"
   ]
  },
  {
   "cell_type": "markdown",
   "id": "1ec23b86",
   "metadata": {},
   "source": [
    "Executando o comando anterior como administrador:"
   ]
  },
  {
   "cell_type": "code",
   "execution_count": 14,
   "id": "e7b4f4e7",
   "metadata": {},
   "outputs": [
    {
     "name": "stdout",
     "output_type": "stream",
     "text": []
    }
   ],
   "source": [
    "Start-Process -FilePath \"powershell\" -ArgumentList \"Set-ExecutionPolicy Unrestricted\" -Verb RunAs"
   ]
  },
  {
   "cell_type": "markdown",
   "id": "d586d819",
   "metadata": {},
   "source": [
    "## Testando a criação do arquivo profile do PowerShell AllUsersAllHosts"
   ]
  },
  {
   "cell_type": "markdown",
   "id": "9bbf575d",
   "metadata": {},
   "source": [
    "Verificando se o arquivo profile de AllUsersAllHosts existe"
   ]
  },
  {
   "cell_type": "code",
   "execution_count": 15,
   "id": "90ebe66a",
   "metadata": {},
   "outputs": [
    {
     "name": "stdout",
     "output_type": "stream",
     "text": [
      "False\n"
     ]
    }
   ],
   "source": [
    "[System.IO.File]::Exists($profile.AllUsersAllHosts)"
   ]
  },
  {
   "cell_type": "markdown",
   "id": "7a032fa5",
   "metadata": {},
   "source": [
    "Criando o arquivo:"
   ]
  },
  {
   "cell_type": "code",
   "execution_count": 16,
   "id": "f3e30fcb",
   "metadata": {},
   "outputs": [
    {
     "name": "stdout",
     "output_type": "stream",
     "text": [
      "New-Item : O acesso ao caminho 'C:\\Windows\\System32\\WindowsPowerShell\\v1.0\\profile.ps1' foi negado.\n",
      "No linha:2 caractere:1\n",
      "+ New-Item -Path $($profile.AllUsersAllHosts)\n",
      "+ ~~~~~~~~~~~~~~~~~~~~~~~~~~~~~~~~~~~~~~~~~~~\n",
      "    + CategoryInfo          : PermissionDenied: (C:\\Windows\\Syst...1.0\\profile.ps1:String) [New-Item], UnauthorizedAcc \n",
      "   essException\n",
      "    + FullyQualifiedErrorId : NewItemUnauthorizedAccessError,Microsoft.PowerShell.Commands.NewItemCommand\n",
      " \n"
     ]
    }
   ],
   "source": [
    "New-Item -Path $($profile.AllUsersAllHosts)"
   ]
  },
  {
   "cell_type": "markdown",
   "id": "4c667423",
   "metadata": {},
   "source": [
    "Executando o comando anterior como administrador:"
   ]
  },
  {
   "cell_type": "code",
   "execution_count": 18,
   "id": "22801a64",
   "metadata": {},
   "outputs": [
    {
     "name": "stdout",
     "output_type": "stream",
     "text": [
      ". {\n",
      ">> Start-Process -FilePath \"powershell\" -ArgumentList \"New-Item -Path $($profile.AllUsersAllHosts)\" -Verb RunAs\n",
      ">> }\n",
      ">> \n"
     ]
    }
   ],
   "source": [
    "Start-Process -FilePath \"powershell\" -ArgumentList \"New-Item -Path $($profile.AllUsersAllHosts)\" -Verb RunAs"
   ]
  },
  {
   "cell_type": "markdown",
   "id": "629cdfdd",
   "metadata": {},
   "source": [
    "Editando o arquivo com o NotePad:"
   ]
  },
  {
   "cell_type": "code",
   "execution_count": 19,
   "id": "4cc22c23",
   "metadata": {},
   "outputs": [
    {
     "name": "stdout",
     "output_type": "stream",
     "text": []
    }
   ],
   "source": [
    "notepad.exe $($profile.AllUsersAllHosts)"
   ]
  },
  {
   "cell_type": "markdown",
   "id": "0bc321e0",
   "metadata": {},
   "source": [
    "Executando o comando anterior como administrador:"
   ]
  },
  {
   "cell_type": "code",
   "execution_count": 21,
   "id": "73556a5e",
   "metadata": {},
   "outputs": [
    {
     "name": "stdout",
     "output_type": "stream",
     "text": []
    }
   ],
   "source": [
    "Start-Process -FilePath \"notepad.exe\" -ArgumentList \"$($profile.AllUsersAllHosts)\" -Verb RunAs"
   ]
  }
 ],
 "metadata": {
  "kernelspec": {
   "display_name": "PowerShell",
   "language": "powershell",
   "name": "powershell"
  },
  "language_info": {
   "codemirror_mode": "shell",
   "file_extension": ".ps1",
   "mimetype": "text/x-sh",
   "name": "powershell"
  }
 },
 "nbformat": 4,
 "nbformat_minor": 5
}
