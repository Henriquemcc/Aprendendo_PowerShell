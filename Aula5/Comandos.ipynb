{
 "cells": [
  {
   "cell_type": "markdown",
   "id": "489f952b",
   "metadata": {},
   "source": [
    "# Aula 5"
   ]
  },
  {
   "cell_type": "markdown",
   "id": "9ba6d244",
   "metadata": {},
   "source": [
    "Tentando executar o script criado:"
   ]
  },
  {
   "cell_type": "code",
   "execution_count": 4,
   "id": "52e4e2b2",
   "metadata": {},
   "outputs": [
    {
     "name": "stdout",
     "output_type": "stream",
     "text": []
    }
   ],
   "source": [
    "$pastaScripts = \"C:\\Scripts\\\""
   ]
  },
  {
   "cell_type": "code",
   "execution_count": 5,
   "id": "1e55fad7",
   "metadata": {},
   "outputs": [
    {
     "name": "stdout",
     "output_type": "stream",
     "text": [
      "Criando : O termo 'Criando' n■ ■ reconhecido como nome de cmdlet, fun■■, arquivo de script ou programa oper■vel. \n",
      "Verifique a grafia do nome ou, se um caminho tiver sido inclu■do, veja se o caminho est■ correto e tente novamente.\n",
      "No linha:2 caractere:1\n",
      "+ Criando uma Hash Table para a coluna nome\n",
      "+ ~~~~~~~\n",
      "    + CategoryInfo          : ObjectNotFound: (Criando:String) [], CommandNotFoundException\n",
      "    + FullyQualifiedErrorId : CommandNotFoundException\n",
      " \n",
      "Criando : O termo 'Criando' n■ ■ reconhecido como nome de cmdlet, fun■■, arquivo de script ou programa oper■vel. \n",
      "Verifique a grafia do nome ou, se um caminho tiver sido inclu■do, veja se o caminho est■ correto e tente novamente.\n",
      "No linha:7 caractere:1\n",
      "+ Criando uma Hash Table para a coluna tamanho\n",
      "+ ~~~~~~~\n",
      "    + CategoryInfo          : ObjectNotFound: (Criando:String) [], CommandNotFoundException\n",
      "    + FullyQualifiedErrorId : CommandNotFoundException\n",
      " \n",
      "Criando : O termo 'Criando' n■ ■ reconhecido como nome de cmdlet, fun■■, arquivo de script ou programa oper■vel. \n",
      "Verifique a grafia do nome ou, se um caminho tiver sido inclu■do, veja se o caminho est■ correto e tente novamente.\n",
      "No linha:12 caractere:1\n",
      "+ Criando um array com as Hash Tables\n",
      "+ ~~~~~~~\n",
      "    + CategoryInfo          : ObjectNotFound: (Criando:String) [], CommandNotFoundException\n",
      "    + FullyQualifiedErrorId : CommandNotFoundException\n",
      " \n",
      "Exibindo : O termo 'Exibindo' n■ ■ reconhecido como nome de cmdlet, fun■■, arquivo de script ou programa oper■vel. \n",
      "Verifique a grafia do nome ou, se um caminho tiver sido inclu■do, veja se o caminho est■ correto e tente novamente.\n",
      "No linha:14 caractere:1\n",
      "+ Exibindo os arquivos\n",
      "+ ~~~~~~~~\n",
      "    + CategoryInfo          : ObjectNotFound: (Exibindo:String) [], CommandNotFoundException\n",
      "    + FullyQualifiedErrorId : CommandNotFoundException\n",
      " \n",
      "\n",
      "Nome                         Tamanho\n",
      "----                         -------\n",
      "script_migrando_henrique.bat 0,00KB \n",
      "script_migrando_henrique.bat 0,00KB \n",
      "script_migrando_henrique.bat 0,00KB \n",
      "script_migrando_henrique.bat 0,00KB \n",
      "script_migrando_henrique.bat 0,00KB \n",
      "\n",
      "\n"
     ]
    }
   ],
   "source": [
    "Criando uma Hash Table para a coluna nome\n",
    "$nameExpression = @{\n",
    "    Label = \"Nome\"\n",
    "    Expression = { $_.Name }\n",
    "}\n",
    "\n",
    "Criando uma Hash Table para a coluna tamanho\n",
    "$lengthExpression = @{\n",
    "    Label = \"Tamanho\"\n",
    "    Expression = { \"{0:N2}KB\" -f ($_.Length / 1KB) }\n",
    "}\n",
    "\n",
    "Criando um array com as Hash Tables\n",
    "$parameters = $nameExpression, $lengthExpression\n",
    "\n",
    "Exibindo os arquivos\n",
    "Get-ChildItem -Path $pastaScripts -Recurse -File |\n",
    "    Where-Object -Property Name -Like \"*_migrando_*\" |\n",
    "    Select-Object -Property $parameters"
   ]
  },
  {
   "cell_type": "markdown",
   "id": "3047761f",
   "metadata": {},
   "source": [
    "Caso o programa tenha continuado a sua execução mesmo havendo erro, isso é porque a ação padrão quando acontece erro no PowerShell é dar continuidade ao programa."
   ]
  },
  {
   "cell_type": "markdown",
   "id": "38f2f076",
   "metadata": {},
   "source": [
    "É possível alterar isso por meio de uma variável global."
   ]
  },
  {
   "cell_type": "markdown",
   "id": "bfdba013",
   "metadata": {},
   "source": [
    "Obtendo as variáveis globais do PowerShell:"
   ]
  },
  {
   "cell_type": "code",
   "execution_count": 6,
   "id": "a098436d",
   "metadata": {},
   "outputs": [
    {
     "name": "stdout",
     "output_type": "stream",
     "text": [
      "\n",
      "Name                           Value                                                                                   \n",
      "----                           -----                                                                                   \n",
      "$                              {                                                                                       \n",
      "?                              True                                                                                    \n",
      "                              .                                                                                       \n",
      "args                           {}                                                                                      \n",
      "ConfirmPreference              High                                                                                    \n",
      "ConsoleFileName                                                                                                        \n",
      "DebugPreference                SilentlyContinue                                                                        \n",
      "Error                          {System.Management.Automation.IncompleteParseException: '}' de fechamento ausente no ...\n",
      "ErrorActionPreference          Continue                                                                                \n",
      "ErrorView                      NormalView                                                                              \n",
      "ExecutionContext               System.Management.Automation.EngineIntrinsics                                           \n",
      "false                          False                                                                                   \n",
      "FormatEnumerationLimit         4                                                                                       \n",
      "HOME                           C:\\Users\\Henrique                                                                       \n",
      "Host                           System.Management.Automation.Internal.Host.InternalHost                                 \n",
      "InformationPreference          SilentlyContinue                                                                        \n",
      "input                          System.Collections.ArrayList+ArrayListEnumeratorSimple                                  \n",
      "lengthExpression               {Expression, Label}                                                                     \n",
      "MaximumAliasCount              4096                                                                                    \n",
      "MaximumDriveCount              4096                                                                                    \n",
      "MaximumErrorCount              256                                                                                     \n",
      "MaximumFunctionCount           4096                                                                                    \n",
      "MaximumHistoryCount            4096                                                                                    \n",
      "MaximumVariableCount           4096                                                                                    \n",
      "MyInvocation                   System.Management.Automation.InvocationInfo                                             \n",
      "nameExpression                 {Expression, Label}                                                                     \n",
      "NestedPromptLevel              0                                                                                       \n",
      "null                                                                                                                   \n",
      "OutputEncoding                 System.Text.ASCIIEncoding                                                               \n",
      "parameters                     {System.Collections.Hashtable, System.Collections.Hashtable}                            \n",
      "pastaScripts                   C:\\Scripts\\                                                                             \n",
      "PID                            7956                                                               "
     ]
    }
   ],
   "source": [
    "Get-Variable"
   ]
  },
  {
   "cell_type": "markdown",
   "id": "c2f05953",
   "metadata": {},
   "source": [
    "Obtendo variáveis que contenham em seu nome a palavra 'error':"
   ]
  },
  {
   "cell_type": "code",
   "execution_count": 7,
   "id": "7cbc13d7",
   "metadata": {},
   "outputs": [
    {
     "name": "stdout",
     "output_type": "stream",
     "text": [
      "\n",
      "Name                           Value                                                                                   \n",
      "----                           -----                                                                                   \n",
      "Error                          {System.Management.Automation.IncompleteParseException: '}' de fechamento ausente no ...\n",
      "ErrorActionPreference          Continue                                                                                \n",
      "ErrorView                      NormalView                                                                              \n",
      "MaximumErrorCount              256                                                                                     \n",
      "\n",
      "\n"
     ]
    }
   ],
   "source": [
    "Get-Variable | ? Name -Like *error*"
   ]
  },
  {
   "cell_type": "markdown",
   "id": "f7e8e16a",
   "metadata": {},
   "source": [
    "A variável encontrada é ErrorActionPreference, cujo o valor é 'Continue'."
   ]
  },
  {
   "cell_type": "markdown",
   "id": "0d77300a",
   "metadata": {},
   "source": [
    "Mudando o valor da variável ErrorActionPreference para 'Stop':"
   ]
  },
  {
   "cell_type": "code",
   "execution_count": 8,
   "id": "7632dc4c",
   "metadata": {},
   "outputs": [
    {
     "name": "stdout",
     "output_type": "stream",
     "text": []
    }
   ],
   "source": [
    "$ErrorActionPreference = \"Stop\""
   ]
  },
  {
   "cell_type": "markdown",
   "id": "7aa8d412",
   "metadata": {},
   "source": [
    "Mostrando as variáveis globais de preferência:"
   ]
  },
  {
   "cell_type": "code",
   "execution_count": 9,
   "id": "b8f7a1f5",
   "metadata": {},
   "outputs": [
    {
     "name": "stdout",
     "output_type": "stream",
     "text": [
      "\n",
      "Name                           Value                                                                                   \n",
      "----                           -----                                                                                   \n",
      "ConfirmPreference              High                                                                                    \n",
      "DebugPreference                SilentlyContinue                                                                        \n",
      "ErrorActionPreference          Stop                                                                                    \n",
      "InformationPreference          SilentlyContinue                                                                        \n",
      "ProgressPreference             Continue                                                                                \n",
      "VerbosePreference              SilentlyContinue                                                                        \n",
      "WarningPreference              Continue                                                                                \n",
      "WhatIfPreference               False                                                                                   \n",
      "\n",
      "\n"
     ]
    }
   ],
   "source": [
    "Get-Variable | ? Name -Like *preference*"
   ]
  },
  {
   "cell_type": "markdown",
   "id": "7107f29e",
   "metadata": {},
   "source": [
    "Executando código do script:"
   ]
  },
  {
   "cell_type": "code",
   "execution_count": 10,
   "id": "46b0c009",
   "metadata": {},
   "outputs": [
    {
     "name": "stdout",
     "output_type": "stream",
     "text": [
      "Criando : O termo 'Criando' n■ ■ reconhecido como nome de cmdlet, fun■■, arquivo de script ou programa oper■vel. \n",
      "Verifique a grafia do nome ou, se um caminho tiver sido inclu■do, veja se o caminho est■ correto e tente novamente.\n",
      "No linha:2 caractere:1\n",
      "+ Criando uma Hash Table para a coluna nome\n",
      "+ ~~~~~~~\n",
      "    + CategoryInfo          : ObjectNotFound: (Criando:String) [], ParentContainsErrorRecordException\n",
      "    + FullyQualifiedErrorId : CommandNotFoundException\n",
      " \n"
     ]
    }
   ],
   "source": [
    "Criando uma Hash Table para a coluna nome\n",
    "$nameExpression = @{\n",
    "    Label = \"Nome\"\n",
    "    Expression = { $_.Name }\n",
    "}\n",
    "\n",
    "Criando uma Hash Table para a coluna tamanho\n",
    "$lengthExpression = @{\n",
    "    Label = \"Tamanho\"\n",
    "    Expression = { \"{0:N2}KB\" -f ($_.Length / 1KB) }\n",
    "}\n",
    "\n",
    "Criando um array com as Hash Tables\n",
    "$parameters = $nameExpression, $lengthExpression\n",
    "\n",
    "Exibindo os arquivos\n",
    "Get-ChildItem -Path $pastaScripts -Recurse -File |\n",
    "    Where-Object -Property Name -Like \"*_migrando_*\" |\n",
    "    Select-Object -Property $parameters"
   ]
  },
  {
   "cell_type": "markdown",
   "id": "1ca602ad",
   "metadata": {},
   "source": [
    "Para que o script possa executar é necessário colocar um símbolo indicando o que é comentário."
   ]
  },
  {
   "cell_type": "markdown",
   "id": "0561d965",
   "metadata": {},
   "source": [
    "Para isso basta colocar o '#' no começo da linha de comentário:"
   ]
  },
  {
   "cell_type": "code",
   "execution_count": 11,
   "id": "7695b3fe",
   "metadata": {},
   "outputs": [
    {
     "name": "stdout",
     "output_type": "stream",
     "text": [
      "\n",
      "Nome                         Tamanho\n",
      "----                         -------\n",
      "script_migrando_henrique.bat 0,00KB \n",
      "script_migrando_henrique.bat 0,00KB \n",
      "script_migrando_henrique.bat 0,00KB \n",
      "script_migrando_henrique.bat 0,00KB \n",
      "script_migrando_henrique.bat 0,00KB \n",
      "\n",
      "\n"
     ]
    }
   ],
   "source": [
    "# Criando uma Hash Table para a coluna nome\n",
    "$nameExpression = @{\n",
    "    Label = \"Nome\"\n",
    "    Expression = { $_.Name }\n",
    "}\n",
    "\n",
    "# Criando uma Hash Table para a coluna tamanho\n",
    "$lengthExpression = @{\n",
    "    Label = \"Tamanho\"\n",
    "    Expression = { \"{0:N2}KB\" -f ($_.Length / 1KB) }\n",
    "}\n",
    "\n",
    "# Criando um array com as Hash Tables\n",
    "$parameters = $nameExpression, $lengthExpression\n",
    "\n",
    "# Exibindo os arquivos\n",
    "Get-ChildItem -Path $pastaScripts -Recurse -File |\n",
    "    Where-Object -Property Name -Like \"*_migrando_*\" |\n",
    "    Select-Object -Property $parameters"
   ]
  },
  {
   "cell_type": "markdown",
   "id": "f430ec28",
   "metadata": {},
   "source": [
    "E para comentar mais de uma linha, pode-se utilizar os símbolos '<#' para indicar o início do bloco de comentários e '#>' para indicar o fim."
   ]
  },
  {
   "cell_type": "code",
   "execution_count": 13,
   "id": "f9180048",
   "metadata": {},
   "outputs": [
    {
     "name": "stdout",
     "output_type": "stream",
     "text": [
      "\n",
      "Nome                         Tamanho\n",
      "----                         -------\n",
      "script_migrando_henrique.bat 0,00KB \n",
      "script_migrando_henrique.bat 0,00KB \n",
      "script_migrando_henrique.bat 0,00KB \n",
      "script_migrando_henrique.bat 0,00KB \n",
      "script_migrando_henrique.bat 0,00KB \n",
      "\n",
      "\n"
     ]
    }
   ],
   "source": [
    "<# \n",
    "Criando uma Hash Table para a coluna nome\n",
    "Nela conterá a chave 'Label' com o valor 'Nome',\n",
    "e a chave 'Expression' com o valor '{ $_.Name }'\n",
    "#>\n",
    "$nameExpression = @{\n",
    "    Label = \"Nome\"\n",
    "    Expression = { $_.Name }\n",
    "}\n",
    "\n",
    "<# Criando uma Hash Table para a coluna tamanho\n",
    "Nela conterá a chave 'Label' com o valor 'Tamanho',\n",
    "e a chave 'Expression' com o valor '{ \"{0:N2}KB\" -f ($_.Length / 1KB) }'\n",
    "#>\n",
    "$lengthExpression = @{\n",
    "    Label = \"Tamanho\"\n",
    "    Expression = { \"{0:N2}KB\" -f ($_.Length / 1KB) }\n",
    "}\n",
    "\n",
    "<# Criando um array com as Hash Tables\n",
    "Nele terá as Hash Tables $nameExpression e $lengthExpression\n",
    "#>\n",
    "$parameters = $nameExpression, $lengthExpression\n",
    "\n",
    "<# Exibindo os arquivos\n",
    "Recursivamente, cujo nome seja parecido com \"*_migrando*_\"\n",
    "#>\n",
    "Get-ChildItem -Path $pastaScripts -Recurse -File |\n",
    "    Where-Object -Property Name -Like \"*_migrando_*\" |\n",
    "    Select-Object -Property $parameters"
   ]
  },
  {
   "cell_type": "markdown",
   "id": "af62f424",
   "metadata": {},
   "source": [
    "Guardando o resultado do Script em uma variável:"
   ]
  },
  {
   "cell_type": "code",
   "execution_count": 16,
   "id": "b6870dff",
   "metadata": {},
   "outputs": [
    {
     "name": "stdout",
     "output_type": "stream",
     "text": [
      "\n",
      "Nome                         Tamanho\n",
      "----                         -------\n",
      "script_migrando_henrique.bat 0,00KB \n",
      "script_migrando_henrique.bat 0,00KB \n",
      "script_migrando_henrique.bat 0,00KB \n",
      "script_migrando_henrique.bat 0,00KB \n",
      "script_migrando_henrique.bat 0,00KB \n",
      "\n",
      "\n"
     ]
    }
   ],
   "source": [
    "# Criando uma Hash Table para a coluna nome\n",
    "$nameExpression = @{\n",
    "    Label = \"Nome\"\n",
    "    Expression = { $_.Name }\n",
    "}\n",
    "\n",
    "# Criando uma Hash Table para a coluna tamanho\n",
    "$lengthExpression = @{\n",
    "    Label = \"Tamanho\"\n",
    "    Expression = { \"{0:N2}KB\" -f ($_.Length / 1KB) }\n",
    "}\n",
    "\n",
    "# Criando um array com as Hash Tables\n",
    "$parameters = $nameExpression, $lengthExpression\n",
    "\n",
    "# Exibindo os arquivos\n",
    "$resultado = Get-ChildItem -Path $pastaScripts -Recurse -File |\n",
    "    Where-Object -Property Name -Like \"*_migrando_*\" |\n",
    "    Select-Object -Property $parameters\n",
    "   \n",
    "# Mostrando o valor da variável\n",
    "$resultado"
   ]
  },
  {
   "cell_type": "markdown",
   "id": "0a1c204c",
   "metadata": {},
   "source": [
    "Adicionando a alteração da variável $ErrorActionPreference no script"
   ]
  },
  {
   "cell_type": "code",
   "execution_count": 17,
   "id": "e5edfe6b",
   "metadata": {},
   "outputs": [
    {
     "name": "stdout",
     "output_type": "stream",
     "text": [
      "\n",
      "Nome                         Tamanho\n",
      "----                         -------\n",
      "script_migrando_henrique.bat 0,00KB \n",
      "script_migrando_henrique.bat 0,00KB \n",
      "script_migrando_henrique.bat 0,00KB \n",
      "script_migrando_henrique.bat 0,00KB \n",
      "script_migrando_henrique.bat 0,00KB \n",
      "\n",
      "\n"
     ]
    }
   ],
   "source": [
    "# Alterando a variável $ErrorActionPreference para que \n",
    "$ErrorActionPreference = \"Stop\"\n",
    "\n",
    "# Criando uma Hash Table para a coluna nome\n",
    "$nameExpression = @{\n",
    "    Label = \"Nome\"\n",
    "    Expression = { $_.Name }\n",
    "}\n",
    "\n",
    "# Criando uma Hash Table para a coluna tamanho\n",
    "$lengthExpression = @{\n",
    "    Label = \"Tamanho\"\n",
    "    Expression = { \"{0:N2}KB\" -f ($_.Length / 1KB) }\n",
    "}\n",
    "\n",
    "# Criando um array com as Hash Tables\n",
    "$parameters = $nameExpression, $lengthExpression\n",
    "\n",
    "# Exibindo os arquivos\n",
    "$resultado = Get-ChildItem -Path $pastaScripts -Recurse -File |\n",
    "    Where-Object -Property Name -Like \"*_migrando_*\" |\n",
    "    Select-Object -Property $parameters\n",
    "   \n",
    "# Mostrando o valor da variável\n",
    "$resultado"
   ]
  },
  {
   "cell_type": "markdown",
   "id": "3da36a0e",
   "metadata": {},
   "source": [
    "## Testando o contexto de execução"
   ]
  },
  {
   "cell_type": "markdown",
   "id": "f7afd78e",
   "metadata": {},
   "source": [
    "Definindo a váriavel resultado"
   ]
  },
  {
   "cell_type": "code",
   "execution_count": 41,
   "id": "7b2b39b1",
   "metadata": {},
   "outputs": [
    {
     "name": "stdout",
     "output_type": "stream",
     "text": []
    }
   ],
   "source": [
    "$resultado = \"Minha variável do contexto do PowerShell - no Jupyter Notebook\""
   ]
  },
  {
   "cell_type": "markdown",
   "id": "5125a34c",
   "metadata": {},
   "source": [
    "Mostrando o valor da variável resultado:"
   ]
  },
  {
   "cell_type": "code",
   "execution_count": 42,
   "id": "cb07df74",
   "metadata": {},
   "outputs": [
    {
     "name": "stdout",
     "output_type": "stream",
     "text": [
      "Minha variável do contexto do PowerShell - no Jupyter Notebook\n"
     ]
    }
   ],
   "source": [
    "$resultado"
   ]
  },
  {
   "cell_type": "markdown",
   "id": "94e47525",
   "metadata": {},
   "source": [
    "Mostrando a localização atual"
   ]
  },
  {
   "cell_type": "code",
   "execution_count": 43,
   "id": "452c6712",
   "metadata": {},
   "outputs": [
    {
     "name": "stdout",
     "output_type": "stream",
     "text": [
      "\n",
      "Path                                                                                 \n",
      "----                                                                                 \n",
      "C:\\Users\\Henrique\\Repositorios_Git\\github.com\\Henriquemcc\\Aprendendo_PowerShell\\Aula5\n",
      "\n",
      "\n"
     ]
    }
   ],
   "source": [
    "Get-Location"
   ]
  },
  {
   "cell_type": "markdown",
   "id": "8eb31655",
   "metadata": {},
   "source": [
    "Executando o script: 'MostrarEAlterarVariavelResultado.ps1':"
   ]
  },
  {
   "cell_type": "code",
   "execution_count": 44,
   "id": "44d8540e",
   "metadata": {},
   "outputs": [
    {
     "name": "stdout",
     "output_type": "stream",
     "text": [
      "Minha variável do contexto do PowerShell - no Jupyter Notebook\n"
     ]
    }
   ],
   "source": [
    ".\\MostrarEAlterarVariavelResultado.ps1"
   ]
  },
  {
   "cell_type": "markdown",
   "id": "8be40eef",
   "metadata": {},
   "source": [
    "Mostrando a variável resultado após a execução do script"
   ]
  },
  {
   "cell_type": "code",
   "execution_count": 45,
   "id": "54d0d666",
   "metadata": {},
   "outputs": [
    {
     "name": "stdout",
     "output_type": "stream",
     "text": [
      "Minha variável do contexto do PowerShell - no Jupyter Notebook\n"
     ]
    }
   ],
   "source": [
    "$resultado"
   ]
  },
  {
   "cell_type": "markdown",
   "id": "3176760c",
   "metadata": {},
   "source": [
    "A variável não foi alterada pelo script MostrarEAlterarVariavelResultado.ps1 pois um contexto filho não pode modificar uma variável de seu contexto pai."
   ]
  },
  {
   "cell_type": "markdown",
   "id": "e0e781da",
   "metadata": {},
   "source": [
    "Utilizando variáveis privadas para que o valor no contexto pai não possa ser visualizado no contexto filho:"
   ]
  },
  {
   "cell_type": "code",
   "execution_count": 49,
   "id": "0a69d534",
   "metadata": {},
   "outputs": [
    {
     "name": "stdout",
     "output_type": "stream",
     "text": []
    }
   ],
   "source": [
    "$private:resultado = \"Esta é a variável privada!\""
   ]
  },
  {
   "cell_type": "markdown",
   "id": "bee3a875",
   "metadata": {},
   "source": [
    "Executando o script:"
   ]
  },
  {
   "cell_type": "code",
   "execution_count": 50,
   "id": "4606b9d5",
   "metadata": {},
   "outputs": [
    {
     "name": "stdout",
     "output_type": "stream",
     "text": [
      "Esta é a variável privada!\n"
     ]
    }
   ],
   "source": [
    ".\\MostrarEAlterarVariavelResultado.ps1"
   ]
  },
  {
   "cell_type": "code",
   "execution_count": 51,
   "id": "88a09fb7",
   "metadata": {},
   "outputs": [
    {
     "name": "stdout",
     "output_type": "stream",
     "text": [
      "Esta é a variável privada!\n"
     ]
    }
   ],
   "source": [
    "$private:resultado"
   ]
  },
  {
   "cell_type": "markdown",
   "id": "2be00773",
   "metadata": {},
   "source": [
    "Algo de estranho aconteceu no Jupyter Notebooks. Pois este é o resultado no console do PowerShell:\n",
    "\n",
    "```\n",
    "PS C:\\Users\\Henrique\\Repositorios_Git\\github.com\\Henriquemcc\\Aprendendo_PowerShell\\Aula5> $private:resultado = \"oi\"\n",
    "PS C:\\Users\\Henrique\\Repositorios_Git\\github.com\\Henriquemcc\\Aprendendo_PowerShell\\Aula5> .\\MostrarEAlterarVariavelResultado.ps1\n",
    "PS C:\\Users\\Henrique\\Repositorios_Git\\github.com\\Henriquemcc\\Aprendendo_PowerShell\\Aula5> $private:resultado\n",
    "oi\n",
    "```"
   ]
  }
 ],
 "metadata": {
  "kernelspec": {
   "display_name": "PowerShell",
   "language": "powershell",
   "name": "powershell"
  },
  "language_info": {
   "codemirror_mode": "shell",
   "file_extension": ".ps1",
   "mimetype": "text/x-sh",
   "name": "powershell"
  }
 },
 "nbformat": 4,
 "nbformat_minor": 5
}
