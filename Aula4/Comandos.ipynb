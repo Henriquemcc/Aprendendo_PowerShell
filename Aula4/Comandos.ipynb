{
 "cells": [
  {
   "cell_type": "markdown",
   "id": "e3e6a9f0",
   "metadata": {},
   "source": [
    "# Aula 4"
   ]
  },
  {
   "cell_type": "markdown",
   "id": "d4c088b9",
   "metadata": {},
   "source": [
    "## Listando os itens da pasta scripts"
   ]
  },
  {
   "cell_type": "markdown",
   "id": "23a53c5b",
   "metadata": {},
   "source": [
    "Criando a variável pastaScripts:"
   ]
  },
  {
   "cell_type": "code",
   "execution_count": 36,
   "id": "80c2cb28",
   "metadata": {},
   "outputs": [
    {
     "name": "stdout",
     "output_type": "stream",
     "text": []
    }
   ],
   "source": [
    "$pastaScripts = \"C:\\Scripts\""
   ]
  },
  {
   "cell_type": "markdown",
   "id": "f8563866",
   "metadata": {},
   "source": [
    "Mostrando os itens:"
   ]
  },
  {
   "cell_type": "code",
   "execution_count": 37,
   "id": "ddab57ba",
   "metadata": {},
   "outputs": [
    {
     "name": "stdout",
     "output_type": "stream",
     "text": [
      "\n",
      "\n",
      "    Diret■rio: C:\\Scripts\n",
      "\n",
      "\n",
      "Mode                 LastWriteTime         Length Name                                                                 \n",
      "----                 -------------         ------ ----                                                                 \n",
      "d-----        02/08/2021     15:14                a                                                                    \n",
      "d-----        02/08/2021     15:14                e                                                                    \n",
      "d-----        02/08/2021     15:14                i                                                                    \n",
      "d-----        02/08/2021     15:14                o                                                                    \n",
      "d-----        02/08/2021     15:14                u                                                                    \n",
      "\n",
      "\n"
     ]
    }
   ],
   "source": [
    "Get-ChildItem -Path $pastaScripts"
   ]
  },
  {
   "cell_type": "markdown",
   "id": "50b65e5e",
   "metadata": {},
   "source": [
    "Mostrando os itens recursivamente:"
   ]
  },
  {
   "cell_type": "code",
   "execution_count": 38,
   "id": "ca5255d9",
   "metadata": {},
   "outputs": [
    {
     "name": "stdout",
     "output_type": "stream",
     "text": [
      "\n",
      "\n",
      "    Diret■rio: C:\\Scripts\n",
      "\n",
      "\n",
      "Mode                 LastWriteTime         Length Name                                                                 \n",
      "----                 -------------         ------ ----                                                                 \n",
      "d-----        02/08/2021     15:14                a                                                                    \n",
      "d-----        02/08/2021     15:14                e                                                                    \n",
      "d-----        02/08/2021     15:14                i                                                                    \n",
      "d-----        02/08/2021     15:14                o                                                                    \n",
      "d-----        02/08/2021     15:14                u                                                                    \n",
      "\n",
      "\n",
      "    Diret■rio: C:\\Scripts\\a\n",
      "\n",
      "\n",
      "Mode                 LastWriteTime         Length Name                                                                 \n",
      "----                 -------------         ------ ----                                                                 \n",
      "-a----        28/07/2021     19:57              0 script.bat                                                           \n",
      "-a----        28/07/2021     19:57              0 script_migrando_henrique.bat                                         \n",
      "\n",
      "\n",
      "    Diret■rio: C:\\Scripts\\e\n",
      "\n",
      "\n",
      "Mode                 LastWriteTime         Length Name                                                                 \n",
      "----                 -------------         ------ ----                                                                 \n",
      "-a----        28/07/2021     19:57              0 script.bat                                                           \n",
      "-a----        28/07/2021     19:57              0 script_migrando_henrique.bat                                         \n",
      "\n",
      "\n",
      "    Diret■rio: C:\\Scripts\\i\n",
      "\n",
      "\n",
      "Mode                 LastWriteTime         Length Name                                                                 \n",
      "----                 -------------         ------ ----                                                                 \n",
      "-a----        28/07/2021     19:57              0 script.bat                                                           \n",
      "-a----        28/07/2021     19:57              0 script_migrando_henrique.bat                                         \n",
      "\n",
      "\n",
      "    Diret■rio: C:\\Scripts\\o\n",
      "\n",
      "\n",
      "Mode                 LastWriteTime         Length Name                                                                 \n",
      "----                 -------------         ------ ----                                                                 \n",
      "-a----        28/07/2021     19:57              0 script.bat                                                           \n",
      "-a----        28/07/2021     19:57              0 script_migrando_henrique.bat                                         \n",
      "\n",
      "\n",
      "    Diret■rio: C:\\Scripts\\u\n",
      "\n",
      "\n",
      "Mode                 LastWriteTime         Length Name                                                                 \n",
      "----                 -------------         ------ ----                                                                 \n",
      "-a----        28/07/2021     19:57              0 script.bat                                                           \n",
      "-a----        28/07/2021     19:57              0 script_migrando_henrique.bat                                         \n",
      "\n",
      "\n"
     ]
    }
   ],
   "source": [
    "Get-ChildItem -Path $pastaScripts -Recurse"
   ]
  },
  {
   "cell_type": "markdown",
   "id": "15607d28",
   "metadata": {},
   "source": [
    "Mostrando os arquivos recursivamente:"
   ]
  },
  {
   "cell_type": "code",
   "execution_count": 39,
   "id": "bb4967c8",
   "metadata": {},
   "outputs": [
    {
     "name": "stdout",
     "output_type": "stream",
     "text": [
      ". {\n",
      ">> Get-ChildItem -Path $pastaScripts -Recurse -File\n",
      ">> }\n",
      ">> \n",
      "\n",
      "\n",
      "    Diret■rio: C:\\Scripts\\a\n",
      "\n",
      "\n",
      "Mode                 LastWriteTime         Length Name                                                                 \n",
      "----                 -------------         ------ ----                                                                 \n",
      "-a----        28/07/2021     19:57              0 script.bat                                                           \n",
      "-a----        28/07/2021     19:57              0 script_migrando_henrique.bat                                         \n",
      "\n",
      "\n",
      "    Diret■rio: C:\\Scripts\\e\n",
      "\n",
      "\n",
      "Mode                 LastWriteTime         Length Name                                                                 \n",
      "----                 -------------         ------ ----                                                                 \n",
      "-a----        28/07/2021     19:57              0 script.bat                                                           \n",
      "-a----        28/07/2021     19:57              0 script_migrando_henrique.bat                                         \n",
      "\n",
      "\n",
      "    Diret■rio: C:\\Scripts\\i\n",
      "\n",
      "\n",
      "Mode                 LastWriteTime         Length Name                                                                 \n",
      "----                 -------------         ------ ----                                                                 \n",
      "-a----        28/07/2021     19:57              0 script.bat                                                           \n",
      "-a----        28/07/2021     19:57              0 script_migrando_henrique.bat                                         \n",
      "\n",
      "\n",
      "    Diret■rio: C:\\Scripts\\o\n",
      "\n",
      "\n",
      "Mode                 LastWriteTime         Length Name                                                                 \n",
      "----                 -------------         ------ ----                                                                 \n",
      "-a----        28/07/2021     19:57              0 script.bat                                                           \n",
      "-a----        28/07/2021     19:57              0 script_migrando_henrique.bat                                         \n",
      "\n",
      "\n",
      "    Diret■rio: C:\\Scripts\\u\n",
      "\n",
      "\n",
      "Mode                 LastWriteTime         Length Name                                                                 \n",
      "----                 -------------         ------ ----                                                                 \n",
      "-a----        28/07/2021     19:57              0 script.bat                                                           \n",
      "-a----        28/07/2021     19:57              0 script_migrando_henrique.bat                                         \n",
      "\n",
      "\n"
     ]
    }
   ],
   "source": [
    "Get-ChildItem -Path $pastaScripts -Recurse -File"
   ]
  },
  {
   "cell_type": "markdown",
   "id": "98889108",
   "metadata": {},
   "source": [
    "Mostrando o campo 'Name' dos arquivos recursivamente:"
   ]
  },
  {
   "cell_type": "code",
   "execution_count": 40,
   "id": "32f66c30",
   "metadata": {},
   "outputs": [
    {
     "name": "stdout",
     "output_type": "stream",
     "text": [
      "\n",
      "Name                        \n",
      "----                        \n",
      "script.bat                  \n",
      "script_migrando_henrique.bat\n",
      "script.bat                  \n",
      "script_migrando_henrique.bat\n",
      "script.bat                  \n",
      "script_migrando_henrique.bat\n",
      "script.bat                  \n",
      "script_migrando_henrique.bat\n",
      "script.bat                  \n",
      "script_migrando_henrique.bat\n",
      "\n",
      "\n"
     ]
    }
   ],
   "source": [
    "Get-ChildItem -Path $pastaScripts -Recurse -File | Select-Object -Property Name"
   ]
  },
  {
   "cell_type": "markdown",
   "id": "b4ccb892",
   "metadata": {},
   "source": [
    "Mostrando o campo 'Name' dos arquivos recursivemente que sejam parecidos com '\\*_migrando_\\*':"
   ]
  },
  {
   "cell_type": "code",
   "execution_count": 41,
   "id": "67b0a212",
   "metadata": {},
   "outputs": [
    {
     "name": "stdout",
     "output_type": "stream",
     "text": [
      "\n",
      "Name                        \n",
      "----                        \n",
      "script_migrando_henrique.bat\n",
      "script_migrando_henrique.bat\n",
      "script_migrando_henrique.bat\n",
      "script_migrando_henrique.bat\n",
      "script_migrando_henrique.bat\n",
      "\n",
      "\n"
     ]
    }
   ],
   "source": [
    "Get-ChildItem -Path $pastaScripts -Recurse -File | Select-Object -Property Name | Where-Object {\n",
    "    $_ -like \"*_migrando_*\"\n",
    "}"
   ]
  },
  {
   "cell_type": "markdown",
   "id": "8efe06a3",
   "metadata": {},
   "source": [
    "Mostrando os campos 'Name' e 'Length' dos arquivos recursivemente que sejam parecidos com '\\*_migrando_\\*':"
   ]
  },
  {
   "cell_type": "code",
   "execution_count": 42,
   "id": "b9a837df",
   "metadata": {},
   "outputs": [
    {
     "name": "stdout",
     "output_type": "stream",
     "text": [
      "\n",
      "Length\n",
      "------\n",
      "      \n",
      "      \n",
      "      \n",
      "      \n",
      "      \n",
      "\n",
      "\n"
     ]
    }
   ],
   "source": [
    "Get-ChildItem -Path $pastaScripts -Recurse -File | Select-Object -Property Name | Where-Object {\n",
    "    $_ -like \"*_migrando_*\"\n",
    "} | Select-Object -Property Length"
   ]
  },
  {
   "cell_type": "markdown",
   "id": "3a20ecdd",
   "metadata": {},
   "source": [
    "Não foi possível mostrar o campo 'Length' pois ele foi filtrado e descartado pelo 'Select-Object -Property Name'."
   ]
  },
  {
   "cell_type": "markdown",
   "id": "da1bd635",
   "metadata": {},
   "source": [
    "A forma correta é:"
   ]
  },
  {
   "cell_type": "code",
   "execution_count": 43,
   "id": "7abeb30f",
   "metadata": {},
   "outputs": [
    {
     "name": "stdout",
     "output_type": "stream",
     "text": [
      "\n",
      "Name                         Length\n",
      "----                         ------\n",
      "script_migrando_henrique.bat      0\n",
      "script_migrando_henrique.bat      0\n",
      "script_migrando_henrique.bat      0\n",
      "script_migrando_henrique.bat      0\n",
      "script_migrando_henrique.bat      0\n",
      "\n",
      "\n"
     ]
    }
   ],
   "source": [
    "Get-ChildItem -Path $pastaScripts -Recurse -File | Where-Object -Property Name -Like \"*_migrando_*\" | Select-Object -Property Name, Length"
   ]
  },
  {
   "cell_type": "markdown",
   "id": "bf27219b",
   "metadata": {},
   "source": [
    "Outra forma:"
   ]
  },
  {
   "cell_type": "code",
   "execution_count": 44,
   "id": "dbb91d61",
   "metadata": {},
   "outputs": [
    {
     "name": "stdout",
     "output_type": "stream",
     "text": [
      "script_migrando_henrique.bat 0\n",
      "script_migrando_henrique.bat 0\n",
      "script_migrando_henrique.bat 0\n",
      "script_migrando_henrique.bat 0\n",
      "script_migrando_henrique.bat 0\n"
     ]
    }
   ],
   "source": [
    "$arquivosRecursivosDaPasta = Get-ChildItem -Path $pastaScripts -Recurse -File\n",
    "foreach ($arquivo in $arquivosRecursivosDaPasta)\n",
    "{\n",
    "    if ($arquivo.Name -like \"*_migrando_*\")\n",
    "    {\n",
    "        Write-Host \"$($arquivo.Name) $($arquivo.Length)\"\n",
    "    }\n",
    "}"
   ]
  },
  {
   "cell_type": "markdown",
   "id": "44480bb2",
   "metadata": {},
   "source": [
    "Outra forma:"
   ]
  },
  {
   "cell_type": "code",
   "execution_count": 45,
   "id": "50fdfee8",
   "metadata": {},
   "outputs": [
    {
     "name": "stdout",
     "output_type": "stream",
     "text": [
      "\n",
      "Name                         Length\n",
      "----                         ------\n",
      "script_migrando_henrique.bat      0\n",
      "script_migrando_henrique.bat      0\n",
      "script_migrando_henrique.bat      0\n",
      "script_migrando_henrique.bat      0\n",
      "script_migrando_henrique.bat      0\n",
      "\n",
      "\n"
     ]
    }
   ],
   "source": [
    "$arquivosRecursivosDaPasta = Get-ChildItem -Path $pastaScripts -Recurse -File\n",
    "foreach ($arquivo in $arquivosRecursivosDaPasta)\n",
    "{\n",
    "    if ($arquivo.Name -like \"*_migrando_*\")\n",
    "    {\n",
    "        Select-Object -InputObject $arquivo -Property Name, Length\n",
    "    }\n",
    "}"
   ]
  },
  {
   "cell_type": "markdown",
   "id": "b560821b",
   "metadata": {},
   "source": [
    "### Convertendo Bytes e formatando números"
   ]
  },
  {
   "cell_type": "markdown",
   "id": "aeed0182",
   "metadata": {},
   "source": [
    "Dividindo números:"
   ]
  },
  {
   "cell_type": "code",
   "execution_count": 46,
   "id": "5475743f",
   "metadata": {},
   "outputs": [
    {
     "name": "stdout",
     "output_type": "stream",
     "text": [
      "1,34375\n"
     ]
    }
   ],
   "source": [
    "1376 / 1024"
   ]
  },
  {
   "cell_type": "markdown",
   "id": "98fa48ed",
   "metadata": {},
   "source": [
    "Utilizando especificadores de bytes:"
   ]
  },
  {
   "cell_type": "code",
   "execution_count": 47,
   "id": "7e640601",
   "metadata": {},
   "outputs": [
    {
     "name": "stdout",
     "output_type": "stream",
     "text": [
      "125952\n"
     ]
    }
   ],
   "source": [
    "123kb"
   ]
  },
  {
   "cell_type": "markdown",
   "id": "1b711cf0",
   "metadata": {},
   "source": [
    "Dividindo números por especificadores de bytes:"
   ]
  },
  {
   "cell_type": "code",
   "execution_count": 48,
   "id": "f15120f5",
   "metadata": {},
   "outputs": [
    {
     "name": "stdout",
     "output_type": "stream",
     "text": [
      "5,0716517996043\n"
     ]
    }
   ],
   "source": [
    "5445644654 / 1GB"
   ]
  },
  {
   "cell_type": "markdown",
   "id": "9071f3c6",
   "metadata": {},
   "source": [
    "Obtendo o tipo do resultado da divisão:"
   ]
  },
  {
   "cell_type": "code",
   "execution_count": 49,
   "id": "20984f3c",
   "metadata": {},
   "outputs": [
    {
     "name": "stdout",
     "output_type": "stream",
     "text": [
      "Double\n"
     ]
    }
   ],
   "source": [
    "(5445644654 / 1GB).GetType().Name"
   ]
  },
  {
   "cell_type": "markdown",
   "id": "0b4f25fe",
   "metadata": {},
   "source": [
    "Convertendo o tipo double para uma string com formatação:"
   ]
  },
  {
   "cell_type": "code",
   "execution_count": 50,
   "id": "fc16967e",
   "metadata": {},
   "outputs": [
    {
     "name": "stdout",
     "output_type": "stream",
     "text": [
      "5,07\n"
     ]
    }
   ],
   "source": [
    "(5445644654 / 1GB).ToString(\"N2\")"
   ]
  },
  {
   "cell_type": "markdown",
   "id": "c3c2c604",
   "metadata": {},
   "source": [
    "O N significa numeric (númerico). O 2 após o N é o número de casas decimais após a vírgula. Mais informações: https://docs.microsoft.com/en-us/dotnet/standard/base-types/standard-numeric-format-strings#the-numeric-n-format-specifier"
   ]
  },
  {
   "cell_type": "markdown",
   "id": "e6cee94f",
   "metadata": {},
   "source": [
    "Adicionando a unidade de medida no final da string:"
   ]
  },
  {
   "cell_type": "code",
   "execution_count": 51,
   "id": "3bf9847a",
   "metadata": {},
   "outputs": [
    {
     "name": "stdout",
     "output_type": "stream",
     "text": [
      "5,07GB\n"
     ]
    }
   ],
   "source": [
    "(5445644654 / 1GB).ToString(\"N2\") + \"GB\""
   ]
  },
  {
   "cell_type": "markdown",
   "id": "d755affe",
   "metadata": {},
   "source": [
    "Utilizando o operador de formatação:"
   ]
  },
  {
   "cell_type": "code",
   "execution_count": 52,
   "id": "43b4d066",
   "metadata": {},
   "outputs": [
    {
     "name": "stdout",
     "output_type": "stream",
     "text": [
      "5,07\n"
     ]
    }
   ],
   "source": [
    "\"{0:N2}\" -f (5445644654 / 1GB)"
   ]
  },
  {
   "cell_type": "markdown",
   "id": "636824d9",
   "metadata": {},
   "source": [
    "Adicionando a unidade de medida no final da string com o operador de formatação:"
   ]
  },
  {
   "cell_type": "code",
   "execution_count": 53,
   "id": "557cb7f3",
   "metadata": {},
   "outputs": [
    {
     "name": "stdout",
     "output_type": "stream",
     "text": [
      "5,07GB\n"
     ]
    }
   ],
   "source": [
    "\"{0:N2}GB\" -f (5445644654 / 1GB)"
   ]
  },
  {
   "cell_type": "markdown",
   "id": "62bea972",
   "metadata": {},
   "source": [
    "### Fim de: Convertendo Bytes e formatando números"
   ]
  },
  {
   "cell_type": "markdown",
   "id": "8ed81a07",
   "metadata": {},
   "source": [
    "Mostrando os campos 'Name' e 'Length' dos arquivos recursivemente cujo nome seja parecido com '\\*_migrando_\\*' e dividindo o length por 1 KB:"
   ]
  },
  {
   "cell_type": "code",
   "execution_count": 54,
   "id": "84feb04b",
   "metadata": {},
   "outputs": [
    {
     "name": "stdout",
     "output_type": "stream",
     "text": [
      "Select-Object : N■ ■ poss■vel localizar um par■metro posicional que aceite o argumento '/'.\n",
      "No linha:2 caractere:103\n",
      "+ ... ame -Like \"*_migrando_*\" | Select-Object -Property Name, Length / 1KB\n",
      "+                                ~~~~~~~~~~~~~~~~~~~~~~~~~~~~~~~~~~~~~~~~~~\n",
      "    + CategoryInfo          : InvalidArgument: (:) [Select-Object], ParameterBindingException\n",
      "    + FullyQualifiedErrorId : PositionalParameterNotFound,Microsoft.PowerShell.Commands.SelectObjectCommand\n",
      " \n"
     ]
    }
   ],
   "source": [
    "Get-ChildItem -Path $pastaScripts -Recurse -File | Where-Object -Property Name -Like \"*_migrando_*\" | Select-Object -Property Name, Length / 1KB"
   ]
  },
  {
   "cell_type": "markdown",
   "id": "236f4bbf",
   "metadata": {},
   "source": [
    "Não foi possível mostar o atrbuto Length pois o PowerShell interpretou que a string resultante de 'Get-ChildItem -Path $pastaScripts -Recurse -File | Where-Object -Property Name -Like \"\\*_migrando_\\*\" | Select-Object -Property Name, Length' seria dividia por 1KB o que resultou em um erro."
   ]
  },
  {
   "cell_type": "markdown",
   "id": "6825bdca",
   "metadata": {},
   "source": [
    "A  forma correta é:"
   ]
  },
  {
   "cell_type": "code",
   "execution_count": 55,
   "id": "28140386",
   "metadata": {},
   "outputs": [
    {
     "name": "stdout",
     "output_type": "stream",
     "text": [
      "\n",
      "Name                          $_.Length / 1KB \n",
      "----                         -----------------\n",
      "script_migrando_henrique.bat                 0\n",
      "script_migrando_henrique.bat                 0\n",
      "script_migrando_henrique.bat                 0\n",
      "script_migrando_henrique.bat                 0\n",
      "script_migrando_henrique.bat                 0\n",
      "\n",
      "\n"
     ]
    }
   ],
   "source": [
    "Get-ChildItem -Path $pastaScripts -Recurse -File | Where-Object -Property Name -Like \"*_migrando_*\" | Select-Object -Property Name, { $_.Length / 1KB }"
   ]
  },
  {
   "cell_type": "markdown",
   "id": "39880b06",
   "metadata": {},
   "source": [
    "Mostrando os campos 'Name' e 'Length' dos arquivos recursivemente cujo nome seja parecido com '*_migrando_* e dividindo o length por 1 KB formatados:"
   ]
  },
  {
   "cell_type": "code",
   "execution_count": 56,
   "id": "219743af",
   "metadata": {},
   "outputs": [
    {
     "name": "stdout",
     "output_type": "stream",
     "text": [
      "\n",
      "Name                          \"{0:N2}KB\" -f ($_.Length / 1KB) \n",
      "----                         ---------------------------------\n",
      "script_migrando_henrique.bat 0,00KB                           \n",
      "script_migrando_henrique.bat 0,00KB                           \n",
      "script_migrando_henrique.bat 0,00KB                           \n",
      "script_migrando_henrique.bat 0,00KB                           \n",
      "script_migrando_henrique.bat 0,00KB                           \n",
      "\n",
      "\n"
     ]
    }
   ],
   "source": [
    "Get-ChildItem -Path $pastaScripts -Recurse -File | Where-Object -Property Name -Like \"*_migrando_*\" | Select-Object -Property Name, { \"{0:N2}KB\" -f ($_.Length / 1KB) }"
   ]
  },
  {
   "cell_type": "markdown",
   "id": "59d5ce00",
   "metadata": {},
   "source": [
    "Utilizando o alias de cada comando para reduzir o tamanho da linha:"
   ]
  },
  {
   "cell_type": "code",
   "execution_count": 57,
   "id": "8d0a59b9",
   "metadata": {},
   "outputs": [
    {
     "name": "stdout",
     "output_type": "stream",
     "text": [
      "\n",
      "Name                          \"{0:N2}KB\" -f ($_.Length / 1KB) \n",
      "----                         ---------------------------------\n",
      "script_migrando_henrique.bat 0,00KB                           \n",
      "script_migrando_henrique.bat 0,00KB                           \n",
      "script_migrando_henrique.bat 0,00KB                           \n",
      "script_migrando_henrique.bat 0,00KB                           \n",
      "script_migrando_henrique.bat 0,00KB                           \n",
      "\n",
      "\n"
     ]
    }
   ],
   "source": [
    "gci $pastaScripts -Recurse -File | ? Name -Like \"*_migrando_*\" | select Name, { \"{0:N2}KB\" -f ($_.Length / 1KB) }"
   ]
  },
  {
   "cell_type": "markdown",
   "id": "46313efe",
   "metadata": {},
   "source": [
    "Quebrando o código anterior em múltiplas linhas:"
   ]
  },
  {
   "cell_type": "code",
   "execution_count": 58,
   "id": "cf321f9f",
   "metadata": {},
   "outputs": [
    {
     "name": "stdout",
     "output_type": "stream",
     "text": [
      "No linha:3 caractere:5\n",
      "+     | ? Name -Like \"*_migrando_*\"\n",
      "+     ~\n",
      "Um elemento pipe vazio n■ ■ permitido.\n",
      "No linha:4 caractere:5\n",
      "+     | select\n",
      "+     ~\n",
      "Um elemento pipe vazio n■ ■ permitido.\n",
      "No linha:5 caractere:13\n",
      "+         Name,\n",
      "+             ~\n",
      "Argumento ausente na lista de par■metros.\n",
      "    + CategoryInfo          : ParserError: (:) [], ParentContainsErrorRecordException\n",
      "    + FullyQualifiedErrorId : EmptyPipeElement\n",
      " \n"
     ]
    }
   ],
   "source": [
    "gci $pastaScripts -Recurse -File\n",
    "    | ? Name -Like \"*_migrando_*\"\n",
    "    | select\n",
    "        Name, \n",
    "            { \"{0:N2}KB\" -f ($_.Length / 1KB) }"
   ]
  },
  {
   "cell_type": "markdown",
   "id": "08bd6354",
   "metadata": {},
   "source": [
    "Esse código não irá funcionar como o anterior, pois para o PowerShell cada linha é um comando. Logo a primeira linha será executada como um comando independente da segunda e por assim vai."
   ]
  },
  {
   "cell_type": "markdown",
   "id": "1f0d5844",
   "metadata": {},
   "source": [
    "A forma correta de quebrar em múltiplas linhas é utilizando o símbolo acento grave (\\`), também conhecido como crase."
   ]
  },
  {
   "cell_type": "code",
   "execution_count": 59,
   "id": "e7e1ad1f",
   "metadata": {},
   "outputs": [
    {
     "name": "stdout",
     "output_type": "stream",
     "text": [
      "\n",
      "Name                          \"{0:N2}KB\" -f ($_.Length / 1KB) \n",
      "----                         ---------------------------------\n",
      "script_migrando_henrique.bat 0,00KB                           \n",
      "script_migrando_henrique.bat 0,00KB                           \n",
      "script_migrando_henrique.bat 0,00KB                           \n",
      "script_migrando_henrique.bat 0,00KB                           \n",
      "script_migrando_henrique.bat 0,00KB                           \n",
      "\n",
      "\n"
     ]
    }
   ],
   "source": [
    "gci $pastaScripts -Recurse -File `\n",
    "    | ? Name -Like \"*_migrando_*\" `\n",
    "    | select `\n",
    "        Name, `\n",
    "            { \"{0:N2}KB\" -f ($_.Length / 1KB) }"
   ]
  },
  {
   "cell_type": "markdown",
   "id": "d643e2ed",
   "metadata": {},
   "source": [
    "Outra opção é utilizar o comando pipe no final da linha:"
   ]
  },
  {
   "cell_type": "code",
   "execution_count": 60,
   "id": "1dbf3448",
   "metadata": {},
   "outputs": [
    {
     "name": "stdout",
     "output_type": "stream",
     "text": [
      "\n",
      "Name                          \"{0:N2}KB\" -f ($_.Length / 1KB) \n",
      "----                         ---------------------------------\n",
      "script_migrando_henrique.bat 0,00KB                           \n",
      "script_migrando_henrique.bat 0,00KB                           \n",
      "script_migrando_henrique.bat 0,00KB                           \n",
      "script_migrando_henrique.bat 0,00KB                           \n",
      "script_migrando_henrique.bat 0,00KB                           \n",
      "\n",
      "\n"
     ]
    }
   ],
   "source": [
    "gci $pastaScripts -Recurse -File |\n",
    "    ? Name -Like \"*_migrando_*\" |\n",
    "    select `\n",
    "    Name, `\n",
    "    { \"{0:N2}KB\" -f ($_.Length / 1KB) }"
   ]
  },
  {
   "cell_type": "markdown",
   "id": "631314a4",
   "metadata": {},
   "source": [
    "### Criando arrays"
   ]
  },
  {
   "cell_type": "markdown",
   "id": "a4c06ec1",
   "metadata": {},
   "source": [
    "Criando arrays de números:"
   ]
  },
  {
   "cell_type": "code",
   "execution_count": 61,
   "id": "2a3c73ff",
   "metadata": {},
   "outputs": [
    {
     "name": "stdout",
     "output_type": "stream",
     "text": [
      "1\n",
      "2\n",
      "3\n"
     ]
    }
   ],
   "source": [
    "1, 2, 3"
   ]
  },
  {
   "cell_type": "markdown",
   "id": "2dbe84b7",
   "metadata": {},
   "source": [
    "Obtendo o tipo do array:"
   ]
  },
  {
   "cell_type": "code",
   "execution_count": 63,
   "id": "630367c2",
   "metadata": {},
   "outputs": [
    {
     "name": "stdout",
     "output_type": "stream",
     "text": [
      "Object[]\n"
     ]
    }
   ],
   "source": [
    "(1, 2, 3).GetType().Name"
   ]
  },
  {
   "cell_type": "markdown",
   "id": "81a8d58a",
   "metadata": {},
   "source": [
    "Criando um array de apenas um número:"
   ]
  },
  {
   "cell_type": "code",
   "execution_count": 67,
   "id": "8d5a53e8",
   "metadata": {},
   "outputs": [
    {
     "name": "stdout",
     "output_type": "stream",
     "text": [
      "Int32\n"
     ]
    }
   ],
   "source": [
    "(1).GetType().Name"
   ]
  },
  {
   "cell_type": "markdown",
   "id": "1ca5cdeb",
   "metadata": {},
   "source": [
    "Neste caso o PowerShell interpretou como um número inteiro, pois não havia vírgulas."
   ]
  },
  {
   "cell_type": "markdown",
   "id": "f514a0c4",
   "metadata": {},
   "source": [
    "A solução é colocar uma vírgula antes do número 1:"
   ]
  },
  {
   "cell_type": "code",
   "execution_count": 68,
   "id": "5c57c935",
   "metadata": {},
   "outputs": [
    {
     "name": "stdout",
     "output_type": "stream",
     "text": [
      "Object[]\n"
     ]
    }
   ],
   "source": [
    "(, 1).GetType().Name"
   ]
  },
  {
   "cell_type": "markdown",
   "id": "d1d88018",
   "metadata": {},
   "source": [
    "Criando um array vazio:"
   ]
  },
  {
   "cell_type": "code",
   "execution_count": 69,
   "id": "99711528",
   "metadata": {},
   "outputs": [
    {
     "name": "stdout",
     "output_type": "stream",
     "text": [
      "No linha:2 caractere:2\n",
      "+ ().GetType().Name\n",
      "+  ~\n",
      "Uma express■ era esperada ap■s '('.\n",
      "    + CategoryInfo          : ParserError: (:) [], ParentContainsErrorRecordException\n",
      "    + FullyQualifiedErrorId : ExpectedExpression\n",
      " \n"
     ]
    }
   ],
   "source": [
    "().GetType().Name"
   ]
  },
  {
   "cell_type": "code",
   "execution_count": 70,
   "id": "8e668c70",
   "metadata": {},
   "outputs": [
    {
     "name": "stdout",
     "output_type": "stream",
     "text": [
      "No linha:2 caractere:3\n",
      "+ (,).GetType().Name\n",
      "+   ~\n",
      "Express■ ausente ap■s operador un■rio ','.\n",
      "    + CategoryInfo          : ParserError: (:) [], ParentContainsErrorRecordException\n",
      "    + FullyQualifiedErrorId : MissingExpressionAfterOperator\n",
      " \n"
     ]
    }
   ],
   "source": [
    "(,).GetType().Name"
   ]
  },
  {
   "cell_type": "markdown",
   "id": "ec652fc1",
   "metadata": {},
   "source": [
    "Em ambos os casos ocorreram erro de sintaxe."
   ]
  },
  {
   "cell_type": "markdown",
   "id": "8f624539",
   "metadata": {},
   "source": [
    "A solução é indicar explicitamente que queremos um array, utilizando o @():"
   ]
  },
  {
   "cell_type": "code",
   "execution_count": 72,
   "id": "11458d21",
   "metadata": {},
   "outputs": [
    {
     "name": "stdout",
     "output_type": "stream",
     "text": [
      "Object[]\n"
     ]
    }
   ],
   "source": [
    "@().GetType().Name"
   ]
  },
  {
   "cell_type": "markdown",
   "id": "214cc3fd",
   "metadata": {},
   "source": [
    "### Fim de: Criando arrays"
   ]
  },
  {
   "cell_type": "markdown",
   "id": "2d322466",
   "metadata": {},
   "source": [
    "Criando a nova variável com um array para listar os arquivos:"
   ]
  },
  {
   "cell_type": "code",
   "execution_count": 73,
   "id": "95ee7188",
   "metadata": {},
   "outputs": [
    {
     "name": "stdout",
     "output_type": "stream",
     "text": [
      "\n",
      "Name                          \"{0:N2}KB\" -f ($_.Length / 1KB) \n",
      "----                         ---------------------------------\n",
      "script_migrando_henrique.bat 0,00KB                           \n",
      "script_migrando_henrique.bat 0,00KB                           \n",
      "script_migrando_henrique.bat 0,00KB                           \n",
      "script_migrando_henrique.bat 0,00KB                           \n",
      "script_migrando_henrique.bat 0,00KB                           \n",
      "\n",
      "\n"
     ]
    }
   ],
   "source": [
    "$nameExpression = \"Name\"\n",
    "$lengthExpression = { \"{0:N2}KB\" -f ($_.Length / 1KB) }\n",
    "\n",
    "$parameters = ($nameExpression, $lengthExpression)\n",
    "\n",
    "gci $pastaScripts -Recurse -File |\n",
    "    ? Name -Like \"*_migrando_*\" |\n",
    "    select $parameters"
   ]
  }
 ],
 "metadata": {
  "kernelspec": {
   "display_name": "PowerShell",
   "language": "powershell",
   "name": "powershell"
  },
  "language_info": {
   "codemirror_mode": "shell",
   "file_extension": ".ps1",
   "mimetype": "text/x-sh",
   "name": "powershell"
  }
 },
 "nbformat": 4,
 "nbformat_minor": 5
}
